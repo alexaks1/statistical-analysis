{
  "nbformat": 4,
  "nbformat_minor": 0,
  "metadata": {
    "colab": {
      "name": "task_5.ipynb",
      "provenance": [],
      "collapsed_sections": [
        "m9B8mrInUi_9",
        "XXGAwhULbrJm",
        "T1GfYRxn0M4e",
        "-VJzuZcGgRnx",
        "wS4I5U5CJibX",
        "7er49tOiUO0l"
      ]
    },
    "kernelspec": {
      "name": "ir",
      "display_name": "R"
    },
    "language_info": {
      "name": "R"
    }
  },
  "cells": [
    {
      "cell_type": "markdown",
      "metadata": {
        "id": "_soBL5fKceI5"
      },
      "source": [
        "# Практическая работа №5: Элементы регрессионного анализа. Выборочные прямые среднеквадратической регрессии. Корреляционное отношение\n",
        "\n",
        "Выполнил студент гр. 9372 Аксёнов Александр, вариант 2."
      ]
    },
    {
      "cell_type": "markdown",
      "metadata": {
        "id": "j9_V1UrpceJC"
      },
      "source": [
        "## Цель работы\n",
        "Ознакомление с основными положениями метода наименьших квадратов\n",
        "(МНК), со статистическими свойствами МНК оценок, с понятием функции регрессии и роли МНК в регрессионном анализе, с корреляционным\n",
        "отношением, как мерой тесноты произвольной (в том числе и линейной)\n",
        "корреляционной связи.\n",
        "\n"
      ]
    },
    {
      "cell_type": "markdown",
      "metadata": {
        "id": "-i3Sh55OceJE"
      },
      "source": [
        "## Основные теоретические положения\n",
        "**Уравнение регрессии**. Это математическая формула, применяемая к\n",
        "независимым переменным, чтобы лучше спрогнозировать зависимую\n",
        "переменную, которую необходимо смоделировать\n",
        "<br>\n",
        "Создание **регрессионной модели** представляет собой итерационный\n",
        "процесс, направленный на поиск эффективных независимых переменных,\n",
        "чтобы объяснить зависимые переменные, которые мы пытаемся\n",
        "смоделировать или понять, запуская инструмент регрессии, чтобы\n",
        "определить, какие величины являются эффективными предсказателями.\n",
        "<br>\n",
        "Построение уравнения регрессии сводится к оценке ее параметров. Для оценки\n",
        "параметров регрессий, линейных по параметрам, используют метод наименьших\n",
        "квадратов (МНК). МНК позволяет получить такие оценки параметров, при которых\n",
        "сумма квадратов отклонений фактических значений результативного признака у от\n",
        "теоретических минимальна. \n",
        "<br>\n",
        "\n",
        "\n",
        "*   МНК основан на минимизации суммы квадратов отклонений некоторых функций от искомых переменных \n",
        "*   Даны пары чисел $(x_i, y_i), i = 1,...,n$\n",
        "*   Пусть $f(x_i; a_1,...,a_m), i = 1...n, n>m$ - значения некоторой функции в точках $x_i$\n",
        "*   Задача заключается в нахождении параметров $a_j$, чтобы значения функций были максимально близки к некоторым значениям $y_i$:\n",
        "$F(a_1,...,a_m) = \\sum (y_i - f(x_i; a_1,...,a_m))^2 = \\sum ϵ_i^2 \\rightarrow min$\n",
        "* Задача заменяется задачей поиска минимума функции многих переменных\n",
        "\n",
        "В линейной регрессии вида $y=kx+b$ k и b имеют вид:\n",
        "<br>\n",
        "$k = p_{yx} = \\frac{ \\overline{xy} - \\overline{x}* \\overline{y}}{σ_x^2}$\n",
        "<br>\n",
        "$b = \\overline{y} - k\\overline{x}$\n",
        "\n",
        "Качество модели регрессии оценивается на основе анализа остатков (разностей) $ϵ_{yi} = y_i - y_{xi}$(или $ϵ_{xi} = x_j - x_{yj}$)\n",
        "\n",
        "Как правило, рассчитываются:\n",
        "\n",
        "\n",
        "1.   Теоретический коэффициент детерминации $R^2$\n",
        "2.   Средняя квадратичная ошибка $S_{ϵ}$\n",
        "3.   Средняя ошибка апроксимации(приближения) $A$\n",
        "\n",
        "**Теорема о разложении дисперсии**\n",
        "\n",
        "$σ=(δ^*)^2 + (ϵ)^2$\n",
        "\n",
        "\n",
        "\n",
        "*   Объяснённая уравнением регрессии дисперсия результата признака:\n",
        "\n",
        "$(δ_y^*) = \\frac{1}{n}\\sum(y_{xi} - \\overline{y})^2$\n",
        "*   Необъяснённая(остаточная):\n",
        "\n",
        "$(\\epsilon_y^*) = \\frac{1}{n}\\sumϵ_{yi}^2$\n",
        "* Теоретический коэффициент детерминации:\n",
        "\n",
        "$R_y^2 = \\frac{(δ_y^*)^2}{σ_y^2}$\n",
        "* При парной линейной регрессии коэффициент детерминации равен квадрату коэффициента корреляции:\n",
        "\n",
        "$R^2 = r_в^2$\n",
        "* Средняя квадратичная ошибка\n",
        "$S_{ϵ_y} = \\sqrt{\\frac{1}{n-l}\\sum e_{y_i}^2}$,\n",
        "\n",
        " $l$ - число параметров в модели регрессии\n",
        " \n",
        " Величину $S_ϵ$ можно сравнить с σ. Если $S_ϵ$ < σ, использование модели является целесообразным\n",
        "\n",
        " * Средняя ошибка апроксимации:\n",
        "\n",
        " $A_y = \\frac{1}{n}\\sum|\\frac{ϵ_{y_i}}{y_i}|$\n",
        "\n",
        " Чем меньше рассеяние эмпирических точек вокруг теоретической линии регрессии, тем меньше $A$. Если $A<7$%, то наблюдается хорошее качество модели.\n",
        " \n",
        "\n",
        "\n",
        "\n",
        "\n",
        "\n"
      ]
    },
    {
      "cell_type": "markdown",
      "metadata": {
        "id": "cvhWLWkuceJF"
      },
      "source": [
        "## Постановка задачи\n",
        "Для заданной двумерной выборки (𝑋, 𝑌 ) построить уравнения выборочных прямых среднеквадратической регрессии. Полученные линейные\n",
        "функции регрессии отобразить графически. Найти выборочное корреляционное отношение. Полученные результаты содержательно проинтерпретировать.\n"
      ]
    },
    {
      "cell_type": "markdown",
      "metadata": {
        "id": "wbRnT2luceJG"
      },
      "source": [
        "## Порядок выполнения работы\n",
        "1. Отобразить двумерную выборку на графике.\n",
        "2.  Для заданной выборки построить уравнения средней квадратичной\n",
        "регрессии 𝑥 на 𝑦 и 𝑦 на 𝑥 соответственно. Построить полученные\n",
        "прямые на множестве выборки. Объяснить результаты.\n",
        "3.  Составить корреляционную таблицу для нахождения выборочного корреляционного отношения. Убедиться, что неравенства $𝜂_{𝑥𝑦} \\geq |𝑟_{𝑥𝑦}|$ и $𝜂_{𝑦𝑥} \\geq |𝑟_{𝑥𝑦}|$ выполняются.\n",
        "4. Для заданной выборки построить корреляционную кривую параболического вида $𝑦 = 𝑎𝑥^2 + 𝑏𝑥 + 𝑐$. Сделать выводы.\n",
        "5. Для заданной выборки построить нелинейные корреляционные кривые c помощью МНК в зависимости от номера варианта:\n",
        "  1. степенная функция – $𝑦 = 𝑎𝑥^𝑏$;\n",
        "  2. показательная функция – $𝑦 = 𝑎*exp(𝑏𝑥)$;\n",
        "  3. дробно-линейная функция – $𝑦 =1/(𝑎𝑥 + 𝑏)$;\n",
        "  4. логарифмическая функция – $𝑦 = 𝑎 ln 𝑥 + 𝑏$;\n",
        "  5. обратно пропорциональная функция – $𝑦 = 𝑎/𝑥 + 𝑏$;\n",
        "  6. дробно-рациональная функция – $𝑦 = 𝑥/(𝑎𝑥 + 𝑏)$\n",
        ".\n",
        "6. Вычислить следующие показатели качества регрессии для каждой\n",
        "кривой и сделать выводы:\n",
        "* теоретический коэффициент детерминации $𝑅^2$;\n",
        "* средняя квадратическая ошибка $𝑆_𝜀$;\n",
        "* средняя ошибка аппроксимации (приближения) $𝐴$."
      ]
    },
    {
      "cell_type": "markdown",
      "metadata": {
        "id": "3fd3C2kDceJH"
      },
      "source": [
        "## Выполнение работы"
      ]
    },
    {
      "cell_type": "markdown",
      "metadata": {
        "id": "VCGdyAgI18_C"
      },
      "source": [
        "###Подготовительная часть"
      ]
    },
    {
      "cell_type": "code",
      "metadata": {
        "id": "EGjW5FeVSx7-"
      },
      "source": [
        "#Загрузка выборки\n",
        "sample <- read.csv('./sample_data/pokemons_sample.csv', sep = \";\")\n",
        "X <- sample$defense\n",
        "Y <- sample$special_attack\n",
        "sample_cardinality <- length(X)\n",
        "\n",
        "# 1. Найдём всё необходимое для выборки(см. предыдущие работ)\n",
        "##Ранжированный ряд\n",
        "x_sorted <- sort(X)\n",
        "y_sorted <- sort(Y)\n",
        "\n",
        "##Дискретный стат. ряд\n",
        "x_descrete_series <- data.frame(\n",
        "  intervals = unique(x_sorted),\n",
        "  abs_freqs = as.vector(table(X))\n",
        ")\n",
        "x_descrete_series$rel_freqs = as.vector(prop.table(x_descrete_series$abs))\n",
        "y_descrete_series <- data.frame(\n",
        "  intervals = unique(y_sorted),\n",
        "  abs_freqs = as.vector(table(Y))\n",
        ")\n",
        "y_descrete_series$rel_freqs = as.vector(prop.table(y_descrete_series$abs))\n",
        "##По правилу Стёрджеса\n",
        "number_of_intervals <- 1 + floor(log2(length(X)))\n",
        "\n",
        "##Минимальное и максимальное значения выборки\n",
        "x_min <- min(X)\n",
        "x_max <- max(X)\n",
        "y_min <- min(Y)\n",
        "y_max <- max(Y)\n",
        "\n",
        "##Размах\n",
        "x_range <- x_max - x_min\n",
        "y_range <- y_max - y_min\n",
        "\n",
        "##Шаг\n",
        "x_pre_step <- x_range / number_of_intervals\n",
        "##Итоговый шаг интервального ряда - округлённый шаг из предыдущей строки\n",
        "x_interval_step <- ceiling(x_pre_step)\n",
        "step_for_attack <- y_range / number_of_intervals\n",
        "y_interval_step <- ceiling(step_for_attack)\n",
        "\n",
        "##Перебор\n",
        "x_overstep <- number_of_intervals * (x_interval_step - x_pre_step)\n",
        "\n",
        "x0 <- x_min - x_overstep\n",
        "\n",
        "x_breaks <- 1:(number_of_intervals + 1)\n",
        "for (num in x_breaks){\n",
        "  if (num == 1){\n",
        "    x_breaks[num] <- x0\n",
        "  }\n",
        "  else x_breaks[num] <- x_breaks[num - 1] + x_interval_step\n",
        "}\n",
        "\n",
        "\n",
        "x_intervals <- list()\n",
        "for (i in 1:(length(x_breaks) - 1)){\n",
        "  x_intervals[[i]] <- c(x_breaks[i], x_breaks[i+1])\n",
        "}\n",
        "\n",
        "y_overstep <- number_of_intervals * (y_interval_step - step_for_attack)\n",
        "\n",
        "y0 <- y_min - y_overstep\n",
        "\n",
        "\n",
        "y_breaks <- 1:(number_of_intervals + 1)\n",
        "for (num in y_breaks){\n",
        "  if (num == 1){\n",
        "    y_breaks[num] <- y0\n",
        "  }\n",
        "  else y_breaks[num] <- y_breaks[num - 1] + y_interval_step\n",
        "}\n",
        "\n",
        "\n",
        "y_intervals <- list()\n",
        "for (i in 1:(length(y_breaks) - 1)){\n",
        "  y_intervals[[i]] <- c(y_breaks[i], y_breaks[i+1])\n",
        "}\n",
        "\n",
        "##Интервальный ряд(веса)\n",
        "x_interval_absolute_frequencies <- table(cut(X, breaks = x_breaks))\n",
        "y_interval_absolute_frequencies <- table(cut(Y, breaks = y_breaks))\n",
        "##Интервальный ряд(частости)\n",
        "x_interval_relative_frequencies <- prop.table(x_interval_absolute_frequencies)\n",
        "y_interval_relative_frequencies <- prop.table(y_interval_absolute_frequencies)\n",
        "##Интервальный стат. ряд\n",
        "x_interval_series <- data.frame(\n",
        "  intervals = I(x_intervals),\n",
        "  abs_freqs = as.vector(x_interval_absolute_frequencies),\n",
        "  rel_freqs = as.vector(x_interval_relative_frequencies)\n",
        ")\n",
        "y_interval_series <- data.frame(\n",
        "  intervals = I(y_intervals),\n",
        "  abs_freqs = as.vector(y_interval_absolute_frequencies),\n",
        "  rel_freqs = as.vector(y_interval_relative_frequencies)\n",
        ")\n",
        "\n",
        "##Накопленные частоты интервального рядa\n",
        "accumulated_interval_rel_freqs <- c()\n",
        "for (i in 1:length(x_interval_series$rel_freqs)){\n",
        "  accumulated_interval_rel_freqs[i] <- 0\n",
        "  for (j in 1:i){\n",
        "    accumulated_interval_rel_freqs[i] <- accumulated_interval_rel_freqs[i] + x_interval_series$rel_freqs[j]\n",
        "  }\n",
        "}\n",
        "\n",
        "##Центры интервалов\n",
        "x_centers <- c()\n",
        "for (i in (1:length(x_breaks) - 1)){\n",
        "  x_centers[i] <- round((x_breaks[i] + x_breaks[i+1]) / 2)\n",
        "}\n",
        "\n",
        "y_centers <- c()\n",
        "for (i in (1:length(y_breaks) - 1)){\n",
        "  y_centers[i] <- (y_breaks[i] + y_breaks[i+1]) / 2\n",
        "}\n",
        "\n",
        "#Средние выборочные\n",
        "x_mean <- mean(X)\n",
        "y_mean <- mean(Y)\n",
        "\n",
        "#Дисперсии\n",
        "x_dispersion <- sum((X - x_mean)^ 2) / sample_cardinality\n",
        "y_dispersion <- sum((Y - y_mean)^ 2) / sample_cardinality\n",
        "\n",
        "#Исправленные дисперсии\n",
        "x_corrected_dispersion <- sample_cardinality * x_dispersion / (sample_cardinality - 1)\n",
        "y_corrected_dispersion <- sample_cardinality * y_dispersion / (sample_cardinality - 1)\n",
        "\n",
        "#Средние квадратичные отклонения\n",
        "x_std <- sqrt(x_dispersion)\n",
        "y_std <- sqrt(y_dispersion)\n",
        "\n",
        "#Исправленные средние квадратичные отклонения\n",
        "x_corrected_std <- sqrt(x_corrected_dispersion)\n",
        "y_corrected_std <- sqrt(y_corrected_dispersion)\n"
      ],
      "execution_count": 1,
      "outputs": []
    },
    {
      "cell_type": "markdown",
      "metadata": {
        "id": "m9B8mrInUi_9"
      },
      "source": [
        "### 1. Отобразим двумерную выборку на графике"
      ]
    },
    {
      "cell_type": "code",
      "metadata": {
        "colab": {
          "base_uri": "https://localhost:8080/",
          "height": 437
        },
        "id": "rRPbswaTUkvb",
        "outputId": "5652eaaa-2dac-4d01-a572-fd595f4d91ce"
      },
      "source": [
        "x_plot_values <- X\n",
        "y_plot_values <- Y\n",
        "\n",
        "plot(x_plot_values, y_plot_values, xlab = \"Defense\", ylab= \"Attack\")"
      ],
      "execution_count": 2,
      "outputs": [
        {
          "output_type": "display_data",
          "data": {
            "image/png": "[encoded data removed]",
            "text/plain": [
              "plot without title"
            ]
          },
          "metadata": {
            "image/png": {
              "width": 420,
              "height": 420
            }
          }
        }
      ]
    },
    {
      "cell_type": "markdown",
      "metadata": {
        "id": "FLZufvS4VIln"
      },
      "source": [
        "###2. Для заданной выборки построим уравнения средней квадратичной регрессии 𝑥 на 𝑦 и 𝑦 на 𝑥 соответственно."
      ]
    },
    {
      "cell_type": "markdown",
      "metadata": {
        "id": "OzGb1LAkDyuQ"
      },
      "source": [
        "Для поиска коэффициента корреляции рассчитаем коэффициент ковариации"
      ]
    },
    {
      "cell_type": "code",
      "metadata": {
        "colab": {
          "base_uri": "https://localhost:8080/",
          "height": 35
        },
        "id": "YbJHiEDlVHiY",
        "outputId": "9879e2a8-064f-4a7f-d644-e5bf166f1c8c"
      },
      "source": [
        "n <- sample_cardinality\n",
        "cov <- sum((X - x_mean) * (Y - y_mean)) / n\n",
        "sprintf(\"Коэффициент ковариации = %f \", cov)"
      ],
      "execution_count": 3,
      "outputs": [
        {
          "output_type": "display_data",
          "data": {
            "text/plain": [
              "[1] \"Коэффициент ковариации = 43.009009 \""
            ],
            "text/latex": "'Коэффициент ковариации = 43.009009 '",
            "text/markdown": "'Коэффициент ковариации = 43.009009 '",
            "text/html": [
              "'Коэффициент ковариации = 43.009009 '"
            ]
          },
          "metadata": {}
        }
      ]
    },
    {
      "cell_type": "markdown",
      "metadata": {
        "id": "XipCjU6FGu2p"
      },
      "source": [
        "Найдём коэффициент корреляции"
      ]
    },
    {
      "cell_type": "code",
      "metadata": {
        "colab": {
          "base_uri": "https://localhost:8080/",
          "height": 35
        },
        "id": "A1rJzpOQHBSf",
        "outputId": "2f3909bb-1b1d-4765-ce67-96bebb8111ff"
      },
      "source": [
        "r <- cov  / (x_std * y_std)\n",
        "sprintf(\"Коэффициент корреляции = %f \", r)"
      ],
      "execution_count": 4,
      "outputs": [
        {
          "output_type": "display_data",
          "data": {
            "text/plain": [
              "[1] \"Коэффициент корреляции = 0.037787 \""
            ],
            "text/latex": "'Коэффициент корреляции = 0.037787 '",
            "text/markdown": "'Коэффициент корреляции = 0.037787 '",
            "text/html": [
              "'Коэффициент корреляции = 0.037787 '"
            ]
          },
          "metadata": {}
        }
      ]
    },
    {
      "cell_type": "markdown",
      "metadata": {
        "id": "O5m8Ve_cNqoL"
      },
      "source": [
        "Уравнение линейной регрессии $Y$ на $X$"
      ]
    },
    {
      "cell_type": "code",
      "metadata": {
        "colab": {
          "base_uri": "https://localhost:8080/",
          "height": 35
        },
        "id": "k9jEf5LXNz1F",
        "outputId": "619676e1-5d50-4aa1-8687-e9230ed9087c"
      },
      "source": [
        "k_yx <- r * y_std / x_std\n",
        "b_yx <- y_mean - k_yx * x_mean\n",
        "sprintf(\"y_x = %fx + %f\", k_yx, b_yx)"
      ],
      "execution_count": 5,
      "outputs": [
        {
          "output_type": "display_data",
          "data": {
            "text/plain": [
              "[1] \"y_x = 0.037426x + 71.508162\""
            ],
            "text/latex": "'y\\_x = 0.037426x + 71.508162'",
            "text/markdown": "'y_x = 0.037426x + 71.508162'",
            "text/html": [
              "'y_x = 0.037426x + 71.508162'"
            ]
          },
          "metadata": {}
        }
      ]
    },
    {
      "cell_type": "markdown",
      "metadata": {
        "id": "xtHI_frsWhJH"
      },
      "source": [
        "Это означает, что с увеличением параметра $x$ на 1 единицу параметр $y$ увеличивается в среднем на 0.0374"
      ]
    },
    {
      "cell_type": "markdown",
      "metadata": {
        "id": "L4cyhu4wQ_Lq"
      },
      "source": [
        "Уравнение линейной регрессии $X$ на $Y$\n"
      ]
    },
    {
      "cell_type": "code",
      "metadata": {
        "colab": {
          "base_uri": "https://localhost:8080/",
          "height": 455
        },
        "id": "pSbON1CvREGA",
        "outputId": "7828f9fc-d27a-493b-d098-159d4e68d85b"
      },
      "source": [
        "k_xy <- r * x_std / y_std\n",
        "b_xy <- x_mean - k_xy * y_mean\n",
        "sprintf(\"x_y = %fy + %f\", k_xy, b_xy)\n",
        "\n",
        "plot(x_plot_values, y_plot_values, xlab = \"Defense\", ylab= \"Attack\")\n",
        "lines(x_plot_values, k_yx * x_plot_values + b_yx, col=\"red\")\n",
        "lines(k_xy * y_plot_values + b_xy, y_plot_values, col=\"green\")"
      ],
      "execution_count": 6,
      "outputs": [
        {
          "output_type": "display_data",
          "data": {
            "text/plain": [
              "[1] \"x_y = 0.038150y + 72.650648\""
            ],
            "text/latex": "'x\\_y = 0.038150y + 72.650648'",
            "text/markdown": "'x_y = 0.038150y + 72.650648'",
            "text/html": [
              "'x_y = 0.038150y + 72.650648'"
            ]
          },
          "metadata": {}
        },
        {
          "output_type": "display_data",
          "data": {
            "image/png": "[encoded data removed]",
            "text/plain": [
              "plot without title"
            ]
          },
          "metadata": {
            "image/png": {
              "width": 420,
              "height": 420
            }
          }
        }
      ]
    },
    {
      "cell_type": "markdown",
      "metadata": {
        "id": "LYfOPQ_tZFiW"
      },
      "source": [
        "Это означает, что с увеличением параметра $y$ на 1 единицу параметр $x$ увеличивается в среднем на 0.0381"
      ]
    },
    {
      "cell_type": "markdown",
      "metadata": {
        "id": "XXGAwhULbrJm"
      },
      "source": [
        "###3. Составим корреляционную таблицу для нахождения выборочного корреляционного отношения."
      ]
    },
    {
      "cell_type": "code",
      "metadata": {
        "colab": {
          "base_uri": "https://localhost:8080/",
          "height": 286
        },
        "id": "V8ryerE8ZDZI",
        "outputId": "18b2ae5d-ef83-415f-ce54-f1ee38956809"
      },
      "source": [
        "# 3. Построим корреляционную таблицу\n",
        "##Найдём пары элементов (xi, yj). Возьмём центры соотв. интервалов\n",
        "x_intervals <- x_interval_series$intervals\n",
        "y_intervals <- y_interval_series$intervals\n",
        "\n",
        "\n",
        "correlation_table <- matrix(0, nrow = number_of_intervals, ncol = number_of_intervals)\n",
        "for (i in 1:number_of_intervals){\n",
        "  for (j in 1:number_of_intervals){\n",
        "    for (k in 1:sample_cardinality){\n",
        "      if ((X[k] > x_intervals[[i]][1] && X[k] <= x_intervals[[i]][2]) && (Y[k] > y_intervals[[j]][1] && Y[k] <= y_intervals[[j]][2])){\n",
        "        correlation_table[i,j] = correlation_table[i,j] + 1\n",
        "      }\n",
        "    }\n",
        "  }\n",
        "}\n",
        "\n",
        "rownames(correlation_table) <- x_centers\n",
        "colnames(correlation_table) <- y_centers\n",
        "correlation_table\n",
        "\n",
        "#Для проверки один из способов нахождения коэффициента корреляции\n",
        "intergroup_mean <- sum(X * Y)/n \n",
        "r_new <- (intergroup_mean - x_mean * y_mean) / (x_std * y_std)\n",
        "# r_new\n",
        "# r"
      ],
      "execution_count": 7,
      "outputs": [
        {
          "output_type": "display_data",
          "data": {
            "text/plain": [
              "    19 43 67 91 115 139 163\n",
              "22  1   2  3  0 1   0   0  \n",
              "54  5  12  8 11 3   3   1  \n",
              "86  2   9 12 15 7   1   0  \n",
              "118 0   2  1  1 2   2   1  \n",
              "150 0   2  0  0 0   0   0  \n",
              "182 0   2  1  0 0   0   0  \n",
              "214 0   0  1  0 0   0   0  "
            ],
            "text/latex": "A matrix: 7 × 7 of type dbl\n\\begin{tabular}{r|lllllll}\n  & 19 & 43 & 67 & 91 & 115 & 139 & 163\\\\\n\\hline\n\t22 & 1 &  2 &  3 &  0 & 1 & 0 & 0\\\\\n\t54 & 5 & 12 &  8 & 11 & 3 & 3 & 1\\\\\n\t86 & 2 &  9 & 12 & 15 & 7 & 1 & 0\\\\\n\t118 & 0 &  2 &  1 &  1 & 2 & 2 & 1\\\\\n\t150 & 0 &  2 &  0 &  0 & 0 & 0 & 0\\\\\n\t182 & 0 &  2 &  1 &  0 & 0 & 0 & 0\\\\\n\t214 & 0 &  0 &  1 &  0 & 0 & 0 & 0\\\\\n\\end{tabular}\n",
            "text/markdown": "\nA matrix: 7 × 7 of type dbl\n\n| <!--/--> | 19 | 43 | 67 | 91 | 115 | 139 | 163 |\n|---|---|---|---|---|---|---|---|\n| 22 | 1 |  2 |  3 |  0 | 1 | 0 | 0 |\n| 54 | 5 | 12 |  8 | 11 | 3 | 3 | 1 |\n| 86 | 2 |  9 | 12 | 15 | 7 | 1 | 0 |\n| 118 | 0 |  2 |  1 |  1 | 2 | 2 | 1 |\n| 150 | 0 |  2 |  0 |  0 | 0 | 0 | 0 |\n| 182 | 0 |  2 |  1 |  0 | 0 | 0 | 0 |\n| 214 | 0 |  0 |  1 |  0 | 0 | 0 | 0 |\n\n",
            "text/html": [
              "<table class=\"dataframe\">\n",
              "<caption>A matrix: 7 × 7 of type dbl</caption>\n",
              "<thead>\n",
              "\t<tr><th></th><th scope=col>19</th><th scope=col>43</th><th scope=col>67</th><th scope=col>91</th><th scope=col>115</th><th scope=col>139</th><th scope=col>163</th></tr>\n",
              "</thead>\n",
              "<tbody>\n",
              "\t<tr><th scope=row>22</th><td>1</td><td> 2</td><td> 3</td><td> 0</td><td>1</td><td>0</td><td>0</td></tr>\n",
              "\t<tr><th scope=row>54</th><td>5</td><td>12</td><td> 8</td><td>11</td><td>3</td><td>3</td><td>1</td></tr>\n",
              "\t<tr><th scope=row>86</th><td>2</td><td> 9</td><td>12</td><td>15</td><td>7</td><td>1</td><td>0</td></tr>\n",
              "\t<tr><th scope=row>118</th><td>0</td><td> 2</td><td> 1</td><td> 1</td><td>2</td><td>2</td><td>1</td></tr>\n",
              "\t<tr><th scope=row>150</th><td>0</td><td> 2</td><td> 0</td><td> 0</td><td>0</td><td>0</td><td>0</td></tr>\n",
              "\t<tr><th scope=row>182</th><td>0</td><td> 2</td><td> 1</td><td> 0</td><td>0</td><td>0</td><td>0</td></tr>\n",
              "\t<tr><th scope=row>214</th><td>0</td><td> 0</td><td> 1</td><td> 0</td><td>0</td><td>0</td><td>0</td></tr>\n",
              "</tbody>\n",
              "</table>\n"
            ]
          },
          "metadata": {}
        }
      ]
    },
    {
      "cell_type": "markdown",
      "metadata": {
        "id": "FQwL3LqdgJME"
      },
      "source": [
        "Найдём групповые средние"
      ]
    },
    {
      "cell_type": "code",
      "metadata": {
        "colab": {
          "base_uri": "https://localhost:8080/",
          "height": 88
        },
        "id": "3Q1Fzj_rWF7s",
        "outputId": "76b8d1ef-8fd1-42f6-dc9d-17b1797cdc72"
      },
      "source": [
        "x_group_means <- 0\n",
        "y_group_means <- 0\n",
        "for (i in 1:number_of_intervals){\n",
        "  x_group_means[i] <- sum(x_centers * correlation_table[i,])/sum(correlation_table[i,])\n",
        "  y_group_means[i] <- sum(y_centers * correlation_table[, i])/sum(correlation_table[, i])\n",
        "}\n",
        "print('X group means') \n",
        "x_group_means\n",
        "print('Y group means') \n",
        "y_group_means"
      ],
      "execution_count": 8,
      "outputs": [
        {
          "output_type": "stream",
          "name": "stdout",
          "text": [
            "[1] \"X group means\"\n"
          ]
        },
        {
          "output_type": "display_data",
          "data": {
            "text/plain": [
              "[1]  76.85714  91.95349  99.21739 132.22222  54.00000  64.66667  86.00000"
            ],
            "text/latex": "\\begin{enumerate*}\n\\item 76.8571428571429\n\\item 91.953488372093\n\\item 99.2173913043478\n\\item 132.222222222222\n\\item 54\n\\item 64.6666666666667\n\\item 86\n\\end{enumerate*}\n",
            "text/markdown": "1. 76.8571428571429\n2. 91.953488372093\n3. 99.2173913043478\n4. 132.222222222222\n5. 54\n6. 64.6666666666667\n7. 86\n\n\n",
            "text/html": [
              "<style>\n",
              ".list-inline {list-style: none; margin:0; padding: 0}\n",
              ".list-inline>li {display: inline-block}\n",
              ".list-inline>li:not(:last-child)::after {content: \"\\00b7\"; padding: 0 .5ex}\n",
              "</style>\n",
              "<ol class=list-inline><li>76.8571428571429</li><li>91.953488372093</li><li>99.2173913043478</li><li>132.222222222222</li><li>54</li><li>64.6666666666667</li><li>86</li></ol>\n"
            ]
          },
          "metadata": {}
        },
        {
          "output_type": "stream",
          "name": "stdout",
          "text": [
            "[1] \"Y group means\"\n"
          ]
        },
        {
          "output_type": "display_data",
          "data": {
            "text/plain": [
              "[1] 46.00000 63.68966 61.46154 58.11111 61.46154 63.00000 67.00000"
            ],
            "text/latex": "\\begin{enumerate*}\n\\item 46\n\\item 63.6896551724138\n\\item 61.4615384615385\n\\item 58.1111111111111\n\\item 61.4615384615385\n\\item 63\n\\item 67\n\\end{enumerate*}\n",
            "text/markdown": "1. 46\n2. 63.6896551724138\n3. 61.4615384615385\n4. 58.1111111111111\n5. 61.4615384615385\n6. 63\n7. 67\n\n\n",
            "text/html": [
              "<style>\n",
              ".list-inline {list-style: none; margin:0; padding: 0}\n",
              ".list-inline>li {display: inline-block}\n",
              ".list-inline>li:not(:last-child)::after {content: \"\\00b7\"; padding: 0 .5ex}\n",
              "</style>\n",
              "<ol class=list-inline><li>46</li><li>63.6896551724138</li><li>61.4615384615385</li><li>58.1111111111111</li><li>61.4615384615385</li><li>63</li><li>67</li></ol>\n"
            ]
          },
          "metadata": {}
        }
      ]
    },
    {
      "cell_type": "markdown",
      "metadata": {
        "id": "50g2-f6NjCwe"
      },
      "source": [
        "Найдем межгрупповые дисперсии"
      ]
    },
    {
      "cell_type": "code",
      "metadata": {
        "colab": {
          "base_uri": "https://localhost:8080/",
          "height": 52
        },
        "id": "FX0Dk4iiWF0-",
        "outputId": "a2ed434f-dff6-48f7-95cb-51bf82105a67"
      },
      "source": [
        "intergroup_dispersion_x <- 0\n",
        "intergroup_dispersion_y <- 0\n",
        "for (i in 1:number_of_intervals){\n",
        "  intergroup_dispersion_x = intergroup_dispersion_x + (x_group_means[i] - x_mean) * sum(correlation_table[, i])\n",
        "  intergroup_dispersion_y = intergroup_dispersion_y + (x_group_means[i] - y_mean) * sum(correlation_table[i, ])\n",
        "}\n",
        "intergroup_dispersion_x = intergroup_dispersion_x / sample_cardinality\n",
        "intergroup_dispersion_y = intergroup_dispersion_y / sample_cardinality\n",
        "intergroup_dispersion_x\n",
        "intergroup_dispersion_y"
      ],
      "execution_count": 9,
      "outputs": [
        {
          "output_type": "display_data",
          "data": {
            "text/plain": [
              "[1] 20.84829"
            ],
            "text/latex": "20.8482926086566",
            "text/markdown": "20.8482926086566",
            "text/html": [
              "20.8482926086566"
            ]
          },
          "metadata": {}
        },
        {
          "output_type": "display_data",
          "data": {
            "text/plain": [
              "[1] 21.46847"
            ],
            "text/latex": "21.4684684684685",
            "text/markdown": "21.4684684684685",
            "text/html": [
              "21.4684684684685"
            ]
          },
          "metadata": {}
        }
      ]
    },
    {
      "cell_type": "markdown",
      "metadata": {
        "id": "frJOiqBfnCwV"
      },
      "source": [
        "Рассчитаем $η_{yx}$ и $η_{xy}$. Убедимся, что неравенства $𝜂_{𝑥𝑦} \\geqslant |𝑟_{𝑥𝑦}|$ и $𝜂_{𝑦𝑥} \\geqslant |𝑟_{𝑥𝑦}|$ выполняются.\n"
      ]
    },
    {
      "cell_type": "code",
      "metadata": {
        "colab": {
          "base_uri": "https://localhost:8080/",
          "height": 88
        },
        "id": "hdNsehO7WFnX",
        "outputId": "757af3a0-3fc6-46ce-b501-2946c6d5af0c"
      },
      "source": [
        "eta_yx = sqrt(intergroup_dispersion_y) / y_std\n",
        "eta_xy = sqrt(intergroup_dispersion_x) / x_std\n",
        "eta_yx\n",
        "eta_xy\n",
        "print(eta_yx >= r)\n",
        "print(eta_xy >= r)"
      ],
      "execution_count": 10,
      "outputs": [
        {
          "output_type": "display_data",
          "data": {
            "text/plain": [
              "[1] 0.137997"
            ],
            "text/latex": "0.137997026986551",
            "text/markdown": "0.137997026986551",
            "text/html": [
              "0.137997026986551"
            ]
          },
          "metadata": {}
        },
        {
          "output_type": "display_data",
          "data": {
            "text/plain": [
              "[1] 0.1346925"
            ],
            "text/latex": "0.134692478882768",
            "text/markdown": "0.134692478882768",
            "text/html": [
              "0.134692478882768"
            ]
          },
          "metadata": {}
        },
        {
          "output_type": "stream",
          "name": "stdout",
          "text": [
            "[1] TRUE\n",
            "[1] TRUE\n"
          ]
        }
      ]
    },
    {
      "cell_type": "markdown",
      "metadata": {
        "id": "T1GfYRxn0M4e"
      },
      "source": [
        "###4. Построим корреляционную кривую параболического вида $𝑦 = 𝑎𝑥^2 + 𝑏𝑥 + c$."
      ]
    },
    {
      "cell_type": "markdown",
      "metadata": {
        "id": "kAmvGkLxeQL0"
      },
      "source": [
        "Представим следующую систему уравнений в матричном виде:\n",
        "\n",
        "$a \\sum x_i^4 + b \\sum x_i^3 + c \\sum x_i^2 = \\sum y_i x_i^2$\n",
        "<br>\n",
        "$a \\sum x_i^3 + b \\sum x_i^2 + c \\sum x_i = \\sum y_i x_i$\n",
        "<br>\n",
        "$a \\sum x_i^2 + b \\sum x_i + c n = \\sum y_i$"
      ]
    },
    {
      "cell_type": "code",
      "metadata": {
        "id": "gmRhXuDm0q0l"
      },
      "source": [
        "mat_a1 <- matrix(0, nrow = 3, ncol = 3)\n",
        "mat_a1[1, 1] = sum(X^4)\n",
        "mat_a1[1, 2] = sum(X^3)\n",
        "mat_a1[1, 3] = sum(X^2)\n",
        "mat_a1[2, 1] = mat_a1[1, 2]\n",
        "mat_a1[2, 2] = mat_a1[1, 3]\n",
        "mat_a1[2, 3] = sum(X)\n",
        "mat_a1[3, 1] = mat_a1[1, 3]\n",
        "mat_a1[3, 2] = mat_a1[2, 3]\n",
        "mat_a1[3, 3] = sample_cardinality\n",
        "\n",
        "mat_b1 <- matrix(c( sum(Y * X^2), sum(Y * X), sum(Y)), nrow=3)\n",
        "\n"
      ],
      "execution_count": 11,
      "outputs": []
    },
    {
      "cell_type": "markdown",
      "source": [
        "Решив эту систему, находим коэффициенты параболической регрессии:"
      ],
      "metadata": {
        "id": "cyeJ3YkBDrF8"
      }
    },
    {
      "cell_type": "code",
      "source": [
        "parabolic_factors <- solve(mat_a1, mat_b1) \n",
        "parabolic_factors"
      ],
      "metadata": {
        "colab": {
          "base_uri": "https://localhost:8080/",
          "height": 145
        },
        "id": "x3-9IDUZDpvC",
        "outputId": "69f06212-eec9-45c5-9da3-305f2e81c8fb"
      },
      "execution_count": 12,
      "outputs": [
        {
          "output_type": "display_data",
          "data": {
            "text/plain": [
              "     [,1]        \n",
              "[1,] -0.002968705\n",
              "[2,]  0.634795570\n",
              "[3,] 46.742694630"
            ],
            "text/latex": "A matrix: 3 × 1 of type dbl\n\\begin{tabular}{l}\n\t -0.002968705\\\\\n\t  0.634795570\\\\\n\t 46.742694630\\\\\n\\end{tabular}\n",
            "text/markdown": "\nA matrix: 3 × 1 of type dbl\n\n| -0.002968705 |\n|  0.634795570 |\n| 46.742694630 |\n\n",
            "text/html": [
              "<table class=\"dataframe\">\n",
              "<caption>A matrix: 3 × 1 of type dbl</caption>\n",
              "<tbody>\n",
              "\t<tr><td>-0.002968705</td></tr>\n",
              "\t<tr><td> 0.634795570</td></tr>\n",
              "\t<tr><td>46.742694630</td></tr>\n",
              "</tbody>\n",
              "</table>\n"
            ]
          },
          "metadata": {}
        }
      ]
    },
    {
      "cell_type": "markdown",
      "metadata": {
        "id": "BYzAeoM26qoP"
      },
      "source": [
        "Построим график получившейся функции"
      ]
    },
    {
      "cell_type": "code",
      "metadata": {
        "colab": {
          "base_uri": "https://localhost:8080/",
          "height": 437
        },
        "id": "cWVPENMP6vjz",
        "outputId": "fc51a7dd-5372-4d2f-c4b1-8c0c0d298737"
      },
      "source": [
        "plot(x_plot_values, y_plot_values, xlab = \"Defense\", ylab= \"Attack\")\n",
        "lines(sort(x_plot_values), parabolic_factors[1,1] * sort(x_plot_values)^2 + parabolic_factors[2,1] * sort(x_plot_values) + parabolic_factors[3,1], col=\"red\")"
      ],
      "execution_count": 13,
      "outputs": [
        {
          "output_type": "display_data",
          "data": {
            "image/png": "[encoded data removed]",
            "text/plain": [
              "plot without title"
            ]
          },
          "metadata": {
            "image/png": {
              "width": 420,
              "height": 420
            }
          }
        }
      ]
    },
    {
      "cell_type": "markdown",
      "source": [
        "### 5. Для заданной выборки построим следующую нелинейную корреляционную кривую с помощью МНК:\n",
        "$ y = a * exp(bx) $\n",
        "<br>\n",
        "<br>\n",
        "Прологарифмируем равенство:\n",
        "<br>\n",
        "$ln(y) = ln(a) + bx $\n",
        "<br>\n",
        "Теперь можно найти коэффициенты $a$ и $b$ по известным формулам для линейной функции:\n",
        "<br>\n",
        "$ b = \\frac { n \\sum x_i ln(y_i) -  \\sum x_i \\sum ln(y_i) }{n \\sum (x_i)^2 - (\\sum x_i)^2} $; \n",
        "$ a = exp(\\frac {1}{n}(\\sum ln(y_i) - b \\sum x_i))$"
      ],
      "metadata": {
        "id": "-VJzuZcGgRnx"
      }
    },
    {
      "cell_type": "code",
      "source": [
        "exp_b <- (n * sum(X*log(Y)) - sum(X) * sum(log(Y))) / (n * sum(X^2) - (sum(X))^2)\n",
        "exp_a <- exp((sum(log(Y)) - exp_b * sum(X))/n)\n",
        "\n",
        "exp_b\n",
        "exp_a"
      ],
      "metadata": {
        "colab": {
          "base_uri": "https://localhost:8080/",
          "height": 52
        },
        "id": "DtlBdd9Xyhuo",
        "outputId": "8472ae8e-ce2c-4fb8-ae34-9d371a3d9f78"
      },
      "execution_count": 14,
      "outputs": [
        {
          "output_type": "display_data",
          "data": {
            "text/plain": [
              "[1] 0.001081993"
            ],
            "text/latex": "0.00108199283211663",
            "text/markdown": "0.00108199283211663",
            "text/html": [
              "0.00108199283211663"
            ]
          },
          "metadata": {}
        },
        {
          "output_type": "display_data",
          "data": {
            "text/plain": [
              "[1] 61.04851"
            ],
            "text/latex": "61.0485072890243",
            "text/markdown": "61.0485072890243",
            "text/html": [
              "61.0485072890243"
            ]
          },
          "metadata": {}
        }
      ]
    },
    {
      "cell_type": "markdown",
      "source": [
        "Построим график"
      ],
      "metadata": {
        "id": "H5SrjdAj5Kdw"
      }
    },
    {
      "cell_type": "code",
      "source": [
        "X_exp_vals <- sort(X)\n",
        "Y_exp_vals <- exp_a * exp(exp_b * X_exp_vals)\n",
        "\n",
        "plot(x_plot_values, y_plot_values, xlab = \"Defense\", ylab= \"Attack\")\n",
        "lines(X_exp_vals, Y_exp_vals, col=\"red\")"
      ],
      "metadata": {
        "colab": {
          "base_uri": "https://localhost:8080/",
          "height": 437
        },
        "id": "GbjZAnPV5PGN",
        "outputId": "930a3b34-8298-4e70-cedb-397591b206ba"
      },
      "execution_count": 15,
      "outputs": [
        {
          "output_type": "display_data",
          "data": {
            "image/png": "[encoded data removed]",
            "text/plain": [
              "plot without title"
            ]
          },
          "metadata": {
            "image/png": {
              "width": 420,
              "height": 420
            }
          }
        }
      ]
    },
    {
      "cell_type": "markdown",
      "metadata": {
        "id": "wS4I5U5CJibX"
      },
      "source": [
        "###6."
      ]
    },
    {
      "cell_type": "markdown",
      "metadata": {
        "id": "1asCWpesKctN"
      },
      "source": [
        "Вычислим следующие показатели качества регрессии для каждой\n",
        "кривой:\n",
        "* теоретический коэффициент детерминации $R^2$;\n",
        "* средняя квадратическая ошибка $𝑆_𝜀$;\n",
        "* средняя ошибка аппроксимации (приближения) $A$;"
      ]
    },
    {
      "cell_type": "code",
      "metadata": {
        "id": "otdp5RUCKp-A",
        "colab": {
          "base_uri": "https://localhost:8080/",
          "height": 260
        },
        "outputId": "71fd958a-33d6-4419-88b8-8b60a87be5e3"
      },
      "source": [
        "Y_from_linear <-  k_yx * X + b_yx\n",
        "Y_from_parabolic <- parabolic_factors[1,1] * X^2 + parabolic_factors[2,1] * X + parabolic_factors[3,1]\n",
        "Y_from_non_linear <- exp_a * exp(exp_b * X)\n",
        "\n",
        "\n",
        "linear_remainders <- Y - Y_from_linear\n",
        "parabolic_remainders <- Y - Y_from_parabolic\n",
        "non_linear_remainders <- Y - Y_from_non_linear\n",
        "\n",
        "\n",
        "#Коэффициенты детерминации\n",
        "R_linear <- sum((Y_from_linear - y_mean)^2) / sum((Y - y_mean)^2)\n",
        "R_parabolic <- sum((Y_from_parabolic - y_mean)^2) / sum((Y - y_mean)^2)\n",
        "R_non_linear <- sum((Y_from_non_linear - y_mean)^2) / sum((Y - y_mean)^2)\n",
        "sprintf(\"Теор. коэффициент детерминации линейной кривой по общей формуле: %f\", R_linear)\n",
        "sprintf(\"Теор. коэффициент детерминации линейной кривой = r^2(для проверки): %f\", r^2)\n",
        "sprintf(\"Теор. коэффициент детерминации параболической кривой: %f\", R_parabolic)\n",
        "sprintf(\"Теор. коэффициент детерминации нелинейной кривой: %f\", R_non_linear)\n",
        "\n",
        "R_linear == r^2 # проверка \n",
        "\n",
        "#Средние квадратичные ошибки\n",
        "S_linear <- sqrt(sum(linear_remainders^2)/(n-2))\n",
        "S_parabolic <- sqrt(sum(parabolic_remainders^2)/(n-3))\n",
        "S_non_linear <- sqrt(sum(non_linear_remainders^2)/(n-2))\n",
        "sprintf(\"Средняя квадратичная ошибка линейной кривой: %f\", S_linear)\n",
        "S_linear < y_std\n",
        "sprintf(\"Средняя квадратичная ошибка параболической кривой: %f\", S_parabolic)\n",
        "S_parabolic < y_std\n",
        "sprintf(\"Средняя квадратичная ошибка нелинейной кривой: %f\", S_non_linear)\n",
        "S_non_linear < y_std\n",
        "\n",
        "#Средние ошибки апроксимации\n",
        "A_linear <- sum(abs(linear_remainders / Y)) / n * 100\n",
        "A_parabolic <- sum(abs(parabolic_remainders / Y)) / n * 100\n",
        "A_non_linear <- sum(abs(non_linear_remainders / Y)) / n * 100\n",
        "sprintf(\"Средняя ошибка апроксимации линейной кривой: %f\", A_linear)\n",
        "sprintf(\"Средняя ошибка апроксимации параболической кривой: %f\", A_parabolic)\n",
        "sprintf(\"Средняя ошибка апроксимации нелинейной кривой: %f\", A_non_linear)\n"
      ],
      "execution_count": 16,
      "outputs": [
        {
          "output_type": "display_data",
          "data": {
            "text/plain": [
              "[1] \"Теор. коэффициент детерминации линейной кривой по общей формуле: 0.001428\""
            ],
            "text/latex": "'Теор. коэффициент детерминации линейной кривой по общей формуле: 0.001428'",
            "text/markdown": "'Теор. коэффициент детерминации линейной кривой по общей формуле: 0.001428'",
            "text/html": [
              "'Теор. коэффициент детерминации линейной кривой по общей формуле: 0.001428'"
            ]
          },
          "metadata": {}
        },
        {
          "output_type": "display_data",
          "data": {
            "text/plain": [
              "[1] \"Теор. коэффициент детерминации линейной кривой = r^2(для проверки): 0.001428\""
            ],
            "text/latex": "'Теор. коэффициент детерминации линейной кривой = r\\textasciicircum{}2(для проверки): 0.001428'",
            "text/markdown": "'Теор. коэффициент детерминации линейной кривой = r^2(для проверки): 0.001428'",
            "text/html": [
              "'Теор. коэффициент детерминации линейной кривой = r^2(для проверки): 0.001428'"
            ]
          },
          "metadata": {}
        },
        {
          "output_type": "display_data",
          "data": {
            "text/plain": [
              "[1] \"Теор. коэффициент детерминации параболической кривой: 0.041537\""
            ],
            "text/latex": "'Теор. коэффициент детерминации параболической кривой: 0.041537'",
            "text/markdown": "'Теор. коэффициент детерминации параболической кривой: 0.041537'",
            "text/html": [
              "'Теор. коэффициент детерминации параболической кривой: 0.041537'"
            ]
          },
          "metadata": {}
        },
        {
          "output_type": "display_data",
          "data": {
            "text/plain": [
              "[1] \"Теор. коэффициент детерминации нелинейной кривой: 0.062946\""
            ],
            "text/latex": "'Теор. коэффициент детерминации нелинейной кривой: 0.062946'",
            "text/markdown": "'Теор. коэффициент детерминации нелинейной кривой: 0.062946'",
            "text/html": [
              "'Теор. коэффициент детерминации нелинейной кривой: 0.062946'"
            ]
          },
          "metadata": {}
        },
        {
          "output_type": "display_data",
          "data": {
            "text/plain": [
              "[1] TRUE"
            ],
            "text/latex": "TRUE",
            "text/markdown": "TRUE",
            "text/html": [
              "TRUE"
            ]
          },
          "metadata": {}
        },
        {
          "output_type": "display_data",
          "data": {
            "text/plain": [
              "[1] \"Средняя квадратичная ошибка линейной кривой: 33.858583\""
            ],
            "text/latex": "'Средняя квадратичная ошибка линейной кривой: 33.858583'",
            "text/markdown": "'Средняя квадратичная ошибка линейной кривой: 33.858583'",
            "text/html": [
              "'Средняя квадратичная ошибка линейной кривой: 33.858583'"
            ]
          },
          "metadata": {}
        },
        {
          "output_type": "display_data",
          "data": {
            "text/plain": [
              "[1] FALSE"
            ],
            "text/latex": "FALSE",
            "text/markdown": "FALSE",
            "text/html": [
              "FALSE"
            ]
          },
          "metadata": {}
        },
        {
          "output_type": "display_data",
          "data": {
            "text/plain": [
              "[1] \"Средняя квадратичная ошибка параболической кривой: 33.324842\""
            ],
            "text/latex": "'Средняя квадратичная ошибка параболической кривой: 33.324842'",
            "text/markdown": "'Средняя квадратичная ошибка параболической кривой: 33.324842'",
            "text/html": [
              "'Средняя квадратичная ошибка параболической кривой: 33.324842'"
            ]
          },
          "metadata": {}
        },
        {
          "output_type": "display_data",
          "data": {
            "text/plain": [
              "[1] TRUE"
            ],
            "text/latex": "TRUE",
            "text/markdown": "TRUE",
            "text/html": [
              "TRUE"
            ]
          },
          "metadata": {}
        },
        {
          "output_type": "display_data",
          "data": {
            "text/plain": [
              "[1] \"Средняя квадратичная ошибка нелинейной кривой: 34.858148\""
            ],
            "text/latex": "'Средняя квадратичная ошибка нелинейной кривой: 34.858148'",
            "text/markdown": "'Средняя квадратичная ошибка нелинейной кривой: 34.858148'",
            "text/html": [
              "'Средняя квадратичная ошибка нелинейной кривой: 34.858148'"
            ]
          },
          "metadata": {}
        },
        {
          "output_type": "display_data",
          "data": {
            "text/plain": [
              "[1] FALSE"
            ],
            "text/latex": "FALSE",
            "text/markdown": "FALSE",
            "text/html": [
              "FALSE"
            ]
          },
          "metadata": {}
        },
        {
          "output_type": "display_data",
          "data": {
            "text/plain": [
              "[1] \"Средняя ошибка апроксимации линейной кривой: 53.855882\""
            ],
            "text/latex": "'Средняя ошибка апроксимации линейной кривой: 53.855882'",
            "text/markdown": "'Средняя ошибка апроксимации линейной кривой: 53.855882'",
            "text/html": [
              "'Средняя ошибка апроксимации линейной кривой: 53.855882'"
            ]
          },
          "metadata": {}
        },
        {
          "output_type": "display_data",
          "data": {
            "text/plain": [
              "[1] \"Средняя ошибка апроксимации параболической кривой: 52.643270\""
            ],
            "text/latex": "'Средняя ошибка апроксимации параболической кривой: 52.643270'",
            "text/markdown": "'Средняя ошибка апроксимации параболической кривой: 52.643270'",
            "text/html": [
              "'Средняя ошибка апроксимации параболической кривой: 52.643270'"
            ]
          },
          "metadata": {}
        },
        {
          "output_type": "display_data",
          "data": {
            "text/plain": [
              "[1] \"Средняя ошибка апроксимации нелинейной кривой: 47.976109\""
            ],
            "text/latex": "'Средняя ошибка апроксимации нелинейной кривой: 47.976109'",
            "text/markdown": "'Средняя ошибка апроксимации нелинейной кривой: 47.976109'",
            "text/html": [
              "'Средняя ошибка апроксимации нелинейной кривой: 47.976109'"
            ]
          },
          "metadata": {}
        }
      ]
    },
    {
      "cell_type": "markdown",
      "source": [
        "###Интерпретация результатов"
      ],
      "metadata": {
        "id": "7er49tOiUO0l"
      }
    },
    {
      "cell_type": "markdown",
      "source": [
        "Значения коэффициентов детерминации для всех кривых крайне малы(меньше 50%). Это означает, что связь результативного признака $Y$ с исследуемым фактором $X$ практически отсутствует.\n",
        "<br>\n",
        "Средняя квадратичная ошибка параболической кривой меньше среднего квадратичного отклонения. Значит, использование этой модели является целесообразным.\n",
        "<br>\n",
        "Средняя ошибка апроксимации для всех кривых приняло значение около 50%. Это говорит о том, что рассеяние эмпирических точек довольно велико и качество моделей не является хорошим."
      ],
      "metadata": {
        "id": "kpsy4QqFUcIW"
      }
    },
    {
      "cell_type": "markdown",
      "metadata": {
        "id": "b7M9QxVKceJI"
      },
      "source": [
        "## Выводы\n",
        "В ходе проделанной работы был изучен и применён метод наименьших квадратов, обоснованы статистические свойства оценок, получаемых с помощью МНК.\n",
        "Были построены и отображены на графике кривые линейной, параболической и показательной регрессии с использованием метода наименьших квадратов. Построена корреляционная таблица, найдены соответствующие корреляционные отношения. \n",
        "Был проведён анализ качества регрессии для каждой кривой через коэффициент детерминации, среднюю квадратическую ошибку, среднюю ошибку апроксимации."
      ]
    }
  ]
}