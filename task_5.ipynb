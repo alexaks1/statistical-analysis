{
  "nbformat": 4,
  "nbformat_minor": 0,
  "metadata": {
    "colab": {
      "name": "task_5.ipynb",
      "provenance": [],
      "collapsed_sections": []
    },
    "kernelspec": {
      "name": "ir",
      "display_name": "R"
    },
    "language_info": {
      "name": "R"
    }
  },
  "cells": [
    {
      "cell_type": "markdown",
      "metadata": {
        "id": "_soBL5fKceI5"
      },
      "source": [
        "# Практическая работа №5: Элементы регрессионного анализа. Выборочные прямые среднеквадратической регрессии. Корреляционное отношение\n",
        "\n",
        "Выполнил студент гр. 9372 Аксёнов Александр, вариант 2."
      ]
    },
    {
      "cell_type": "markdown",
      "metadata": {
        "id": "j9_V1UrpceJC"
      },
      "source": [
        "## Цель работы\n",
        "Ознакомление с основными положениями метода наименьших квадратов\n",
        "(МНК), со статистическими свойствами МНК оценок, с понятием функции регрессии и роли МНК в регрессионном анализе, с корреляционным\n",
        "отношением, как мерой тесноты произвольной (в том числе и линейной)\n",
        "корреляционной связи.\n"
      ]
    },
    {
      "cell_type": "markdown",
      "metadata": {
        "id": "-i3Sh55OceJE"
      },
      "source": [
        "## Основные теоретические положения\n",
        "Основные теоретические положения"
      ]
    },
    {
      "cell_type": "markdown",
      "metadata": {
        "id": "cvhWLWkuceJF"
      },
      "source": [
        "## Постановка задачи\n",
        "Для заданной двумерной выборки (𝑋, 𝑌 ) построить уравнения выборочных прямых среднеквадратической регрессии. Полученные линейные\n",
        "функции регрессии отобразить графически. Найти выборочное корреляционное отношение. Полученные результаты содержательно проинтерпретировать.\n"
      ]
    },
    {
      "cell_type": "markdown",
      "metadata": {
        "id": "wbRnT2luceJG"
      },
      "source": [
        "## Порядок выполнения работы\n",
        "1. Отобразить двумерную выборку на графике.\n",
        "2.  Для заданной выборки построить уравнения средней квадратичной\n",
        "регрессии 𝑥 на 𝑦 и 𝑦 на 𝑥 соответственно. Построить полученные\n",
        "прямые на множестве выборки. Объяснить результаты.\n",
        "3.  Составить корреляционную таблицу для нахождения выборочного корреляционного отношения. Убедиться, что неравенства $𝜂_{𝑥𝑦} \\geq |𝑟_{𝑥𝑦}|$ и $𝜂_{𝑦𝑥} \\geq |𝑟_{𝑥𝑦}|$ выполняются.\n",
        "4. Для заданной выборки построить корреляционную кривую параболического вида $𝑦 = 𝑎𝑥^2 + 𝑏𝑥 + 𝑐$. Сделать выводы.\n",
        "5. Для заданной выборки построить нелинейные корреляционные кривые c помощью МНК в зависимости от номера варианта:\n",
        "  1. степенная функция – $𝑦 = 𝑎𝑥^𝑏$;\n",
        "  2. показательная функция – $𝑦 = 𝑎*exp(𝑏𝑥)$;\n",
        "  3. дробно-линейная функция – $𝑦 =1/(𝑎𝑥 + 𝑏)$;\n",
        "  4. логарифмическая функция – $𝑦 = 𝑎 ln 𝑥 + 𝑏$;\n",
        "  5. обратно пропорциональная функция – $𝑦 = 𝑎/𝑥 + 𝑏$;\n",
        "  6. дробно-рациональная функция – $𝑦 = 𝑥/(𝑎𝑥 + 𝑏)$\n",
        ".\n",
        "6. Вычислить следующие показатели качества регрессии для каждой\n",
        "кривой и сделать выводы:\n",
        "* теоретический коэффициент детерминации $𝑅^2$;\n",
        "* средняя квадратическая ошибка $𝑆_𝜀$;\n",
        "* средняя ошибка аппроксимации (приближения) $𝐴$."
      ]
    },
    {
      "cell_type": "markdown",
      "metadata": {
        "id": "3fd3C2kDceJH"
      },
      "source": [
        "## Выполнение работы"
      ]
    },
    {
      "cell_type": "markdown",
      "metadata": {
        "id": "VCGdyAgI18_C"
      },
      "source": [
        "Подготовительная часть"
      ]
    },
    {
      "cell_type": "code",
      "metadata": {
        "colab": {
          "base_uri": "https://localhost:8080/",
          "height": 286
        },
        "id": "EGjW5FeVSx7-",
        "outputId": "3e163ec2-35fe-4d1c-da16-e2ece5674f94"
      },
      "source": [
        "#Загрузка выборки\n",
        "sample <- read.csv('./sample_data/pokemons_sample.csv', sep = \";\")\n",
        "defense_stats <- sample$defense\n",
        "attack_stats <- sample$special_attack\n",
        "sample_cardinality <- length(defense_stats)\n",
        "\n",
        "# 1. Найдём всё необходимое для выборки(см. предыдущие работ)\n",
        "##Ранжированный ряд\n",
        "sorted_sample <- sort(defense_stats)\n",
        "\n",
        "##Дискретный стат. ряд\n",
        "descrete_series <- data.frame(\n",
        "  intervals = unique(sorted_sample),\n",
        "  abs_freqs = as.vector(table(defense_stats))\n",
        ")\n",
        "descrete_series$rel_freqs = as.vector(prop.table(descrete_series$abs))\n",
        "\n",
        "##По правилу Стёрджеса\n",
        "number_of_intervals <- 1 + floor(log2(length(defense_stats)))\n",
        "\n",
        "##Минимальное и максимальное значения выборки\n",
        "x_min <- min(defense_stats)\n",
        "x_max <- max(defense_stats)\n",
        "\n",
        "##Размах\n",
        "range <- x_max - x_min\n",
        "\n",
        "##Шаг\n",
        "step <- range / number_of_intervals\n",
        "##Итоговый шаг интервального ряда - округлённый шаг из предыдущей строки\n",
        "interval_step <- ceiling(step)\n",
        "\n",
        "##Перебор\n",
        "overstep <- number_of_intervals * (interval_step - step)\n",
        "\n",
        "x0 <- x_min - overstep\n",
        "\n",
        "breaks <- 1:(number_of_intervals + 1)\n",
        "for (num in breaks){\n",
        "  if (num == 1){\n",
        "    breaks[num] <- x0\n",
        "  }\n",
        "  else breaks[num] <- breaks[num - 1] + interval_step\n",
        "}\n",
        "\n",
        "\n",
        "intervals <- list()\n",
        "for (i in 1:(length(breaks) - 1)){\n",
        "  intervals[[i]] <- c(breaks[i], breaks[i+1])\n",
        "}\n",
        "\n",
        "##Интервальный ряд(веса)\n",
        "interval_absolute_frequencies <- table(cut(defense_stats, breaks = breaks))\n",
        "##Интервальный ряд(частости)\n",
        "interval_relative_frequencies <- prop.table(interval_absolute_frequencies)\n",
        "##Интервальный стат. ряд\n",
        "defense_interval_series <- data.frame(\n",
        "  intervals = I(intervals),\n",
        "  abs_freqs = as.vector(interval_absolute_frequencies),\n",
        "  rel_freqs = as.vector(interval_relative_frequencies)\n",
        ")\n",
        "\n",
        "##Накопленные частоты интервального рядa\n",
        "accumulated_interval_rel_freqs <- c()\n",
        "for (i in 1:length(defense_interval_series$rel_freqs)){\n",
        "  accumulated_interval_rel_freqs[i] <- 0\n",
        "  for (j in 1:i){\n",
        "    accumulated_interval_rel_freqs[i] <- accumulated_interval_rel_freqs[i] + defense_interval_series$rel_freqs[j]\n",
        "  }\n",
        "}\n",
        "\n",
        "##Центры интервалов\n",
        "defense_interval_centers <- c()\n",
        "for (i in (1:length(breaks) - 1)){\n",
        "  defense_interval_centers[i] <- (breaks[i] + breaks[i+1]) / 2\n",
        "}\n",
        "\n",
        "sorted_attack_stats <- sort(attack_stats)\n",
        "\n",
        "##Дискретный стат. ряд\n",
        "descrete_attack_series <- data.frame(\n",
        "  intervals = unique(sorted_attack_stats),\n",
        "  abs_freqs = as.vector(table(attack_stats))\n",
        ")\n",
        "descrete_attack_series$rel_freqs = as.vector(prop.table(descrete_attack_series$abs))\n",
        "\n",
        "##По правилу Стёрджеса\n",
        "number_of_intervals <- 1 + floor(log2(length(attack_stats)))\n",
        "\n",
        "##Минимальное и максимальное значения выборки\n",
        "min_attack <- min(attack_stats)\n",
        "max_attack <- max(attack_stats)\n",
        "\n",
        "##Размах\n",
        "range_of_attack <- max_attack - min_attack\n",
        "\n",
        "##Шаг\n",
        "step_for_attack <- range_of_attack / number_of_intervals\n",
        "##Итоговый шаг интервального ряда - округлённый шаг из предыдущей строки\n",
        "interval_step_for_attack <- ceiling(step_for_attack)\n",
        "\n",
        "##Перебор\n",
        "overstep_for_attack <- number_of_intervals * (interval_step_for_attack - step_for_attack)\n",
        "\n",
        "x0 <- min_attack - overstep_for_attack\n",
        "\n",
        "\n",
        "attack_breaks <- 1:(number_of_intervals + 1)\n",
        "for (num in attack_breaks){\n",
        "  if (num == 1){\n",
        "    attack_breaks[num] <- x0\n",
        "  }\n",
        "  else attack_breaks[num] <- attack_breaks[num - 1] + interval_step_for_attack\n",
        "}\n",
        "\n",
        "\n",
        "attack_intervals <- list()\n",
        "for (i in 1:(length(attack_breaks) - 1)){\n",
        "  attack_intervals[[i]] <- c(attack_breaks[i], attack_breaks[i+1])\n",
        "}\n",
        "\n",
        "##Интервальный ряд(веса)\n",
        "attack_interval_absolute_frequencies <- table(cut(attack_stats, breaks = attack_breaks))\n",
        "##Интервальный ряд(частости)\n",
        "attack_interval_relative_frequencies <- prop.table(attack_interval_absolute_frequencies)\n",
        "##Интервальный стат. ряд\n",
        "attack_interval_series <- data.frame(\n",
        "  intervals = I(attack_intervals),\n",
        "  abs_freqs = as.vector(attack_interval_absolute_frequencies),\n",
        "  rel_freqs = as.vector(attack_interval_relative_frequencies)\n",
        ")\n",
        "\n",
        "##Центры интервалов\n",
        "attack_interval_centers <- c()\n",
        "for (i in (1:length(attack_breaks) - 1)){\n",
        "  attack_interval_centers[i] <- (attack_breaks[i] + attack_breaks[i+1]) / 2\n",
        "}\n",
        "\n",
        "mean_of_attack_interval_series <- sum(attack_interval_centers * attack_interval_series$rel_freqs) \n",
        "mean_of_defense_interval_series <- sum(defense_interval_centers * defense_interval_series$rel_freqs)\n",
        "\n",
        "attack_dispersion <- sum((attack_interval_centers - mean_of_attack_interval_series)^ 2 * attack_interval_series$rel_freqs)\n",
        "defense_dispersion <- sum((defense_interval_centers - mean_of_defense_interval_series)^ 2 * defense_interval_series$rel_freqs)\n",
        "\n",
        "attack_std <- sqrt(attack_dispersion)\n",
        "defense_std <- sqrt(defense_dispersion)\n",
        "\n",
        "# 2. Построим двумерный интервальный вариационный ряд\n",
        "two_dimensional_interval_series <- data.frame(\n",
        "  def_stats = defense_interval_series$intervals,\n",
        "  def_stats_abs_freqs = defense_interval_series$abs_freqs,\n",
        "  attack_stats = attack_interval_series$intervals,\n",
        "  attack_stats_abs_freqs = attack_interval_series$abs_freqs\n",
        ")\n",
        "\n",
        "\n",
        "\n"
      ],
      "execution_count": 35,
      "outputs": [
        {
          "output_type": "display_data",
          "data": {
            "text/plain": [
              "    19 43 67 91 115 139 163\n",
              "22  1   2  3  0 1   0   0  \n",
              "54  5  12  8 11 3   3   1  \n",
              "86  2   9 12 15 7   1   0  \n",
              "118 0   2  1  1 2   2   1  \n",
              "150 0   2  0  0 0   0   0  \n",
              "182 0   2  1  0 0   0   0  \n",
              "214 0   0  1  0 0   0   0  "
            ],
            "text/latex": "A matrix: 7 × 7 of type dbl\n\\begin{tabular}{r|lllllll}\n  & 19 & 43 & 67 & 91 & 115 & 139 & 163\\\\\n\\hline\n\t22 & 1 &  2 &  3 &  0 & 1 & 0 & 0\\\\\n\t54 & 5 & 12 &  8 & 11 & 3 & 3 & 1\\\\\n\t86 & 2 &  9 & 12 & 15 & 7 & 1 & 0\\\\\n\t118 & 0 &  2 &  1 &  1 & 2 & 2 & 1\\\\\n\t150 & 0 &  2 &  0 &  0 & 0 & 0 & 0\\\\\n\t182 & 0 &  2 &  1 &  0 & 0 & 0 & 0\\\\\n\t214 & 0 &  0 &  1 &  0 & 0 & 0 & 0\\\\\n\\end{tabular}\n",
            "text/markdown": "\nA matrix: 7 × 7 of type dbl\n\n| <!--/--> | 19 | 43 | 67 | 91 | 115 | 139 | 163 |\n|---|---|---|---|---|---|---|---|\n| 22 | 1 |  2 |  3 |  0 | 1 | 0 | 0 |\n| 54 | 5 | 12 |  8 | 11 | 3 | 3 | 1 |\n| 86 | 2 |  9 | 12 | 15 | 7 | 1 | 0 |\n| 118 | 0 |  2 |  1 |  1 | 2 | 2 | 1 |\n| 150 | 0 |  2 |  0 |  0 | 0 | 0 | 0 |\n| 182 | 0 |  2 |  1 |  0 | 0 | 0 | 0 |\n| 214 | 0 |  0 |  1 |  0 | 0 | 0 | 0 |\n\n",
            "text/html": [
              "<table class=\"dataframe\">\n",
              "<caption>A matrix: 7 × 7 of type dbl</caption>\n",
              "<thead>\n",
              "\t<tr><th></th><th scope=col>19</th><th scope=col>43</th><th scope=col>67</th><th scope=col>91</th><th scope=col>115</th><th scope=col>139</th><th scope=col>163</th></tr>\n",
              "</thead>\n",
              "<tbody>\n",
              "\t<tr><th scope=row>22</th><td>1</td><td> 2</td><td> 3</td><td> 0</td><td>1</td><td>0</td><td>0</td></tr>\n",
              "\t<tr><th scope=row>54</th><td>5</td><td>12</td><td> 8</td><td>11</td><td>3</td><td>3</td><td>1</td></tr>\n",
              "\t<tr><th scope=row>86</th><td>2</td><td> 9</td><td>12</td><td>15</td><td>7</td><td>1</td><td>0</td></tr>\n",
              "\t<tr><th scope=row>118</th><td>0</td><td> 2</td><td> 1</td><td> 1</td><td>2</td><td>2</td><td>1</td></tr>\n",
              "\t<tr><th scope=row>150</th><td>0</td><td> 2</td><td> 0</td><td> 0</td><td>0</td><td>0</td><td>0</td></tr>\n",
              "\t<tr><th scope=row>182</th><td>0</td><td> 2</td><td> 1</td><td> 0</td><td>0</td><td>0</td><td>0</td></tr>\n",
              "\t<tr><th scope=row>214</th><td>0</td><td> 0</td><td> 1</td><td> 0</td><td>0</td><td>0</td><td>0</td></tr>\n",
              "</tbody>\n",
              "</table>\n"
            ]
          },
          "metadata": {}
        }
      ]
    },
    {
      "cell_type": "markdown",
      "metadata": {
        "id": "m9B8mrInUi_9"
      },
      "source": [
        "### 1. Отобразим двумерную выборку на графике"
      ]
    },
    {
      "cell_type": "code",
      "metadata": {
        "colab": {
          "base_uri": "https://localhost:8080/",
          "height": 437
        },
        "id": "rRPbswaTUkvb",
        "outputId": "ef071cdd-bb0e-4fce-824e-12db7d062ed5"
      },
      "source": [
        "x_plot_values <- defense_stats\n",
        "y_plot_values <- attack_stats\n",
        "\n",
        "plot(x_plot_values, y_plot_values, xlab = \"Defense\", ylab= \"Attack\")"
      ],
      "execution_count": 43,
      "outputs": [
        {
          "output_type": "display_data",
          "data": {
            "image/png": "[encoded data removed]",
            "text/plain": [
              "plot without title"
            ]
          },
          "metadata": {
            "image/png": {
              "width": 420,
              "height": 420
            }
          }
        }
      ]
    },
    {
      "cell_type": "markdown",
      "metadata": {
        "id": "FLZufvS4VIln"
      },
      "source": [
        "###2. Для заданной выборки построим уравнения средней квадратичной регрессии 𝑥 на 𝑦 и 𝑦 на 𝑥 соответственно."
      ]
    },
    {
      "cell_type": "markdown",
      "metadata": {
        "id": "OzGb1LAkDyuQ"
      },
      "source": [
        "Для поиска коэффициента корреляции рассчитаем коэффициент ковариации"
      ]
    },
    {
      "cell_type": "code",
      "metadata": {
        "colab": {
          "base_uri": "https://localhost:8080/",
          "height": 34
        },
        "id": "YbJHiEDlVHiY",
        "outputId": "f2abd9fd-30b0-4ee5-e5e7-fbf56722def3"
      },
      "source": [
        "X <- defense_stats\n",
        "Y <- attack_stats\n",
        "n <- sample_cardinality\n",
        "\n",
        "cov <- 0\n",
        "for (i in 1:sample_cardinality){\n",
        "  cov = cov + (X[i] - x_mean) * (Y[i] - y_mean)\n",
        "}\n",
        "cov = cov / n\n",
        "sprintf(\"Коэффициент ковариции = %f \", r)"
      ],
      "execution_count": 82,
      "outputs": [
        {
          "output_type": "display_data",
          "data": {
            "text/plain": [
              "[1] \"Коэффициент ковариции = 0.038301 \""
            ],
            "text/latex": "'Коэффициент ковариции = 0.038301 '",
            "text/markdown": "'Коэффициент ковариции = 0.038301 '",
            "text/html": [
              "'Коэффициент ковариции = 0.038301 '"
            ]
          },
          "metadata": {}
        }
      ]
    },
    {
      "cell_type": "markdown",
      "metadata": {
        "id": "XipCjU6FGu2p"
      },
      "source": [
        "Найдём коэффициент корреляции"
      ]
    },
    {
      "cell_type": "code",
      "metadata": {
        "colab": {
          "base_uri": "https://localhost:8080/",
          "height": 34
        },
        "id": "A1rJzpOQHBSf",
        "outputId": "63212eaf-c958-4af6-90d7-40edd0798178"
      },
      "source": [
        "r <- cov  / (attack_std * defense_std)\n",
        "sprintf(\"Коэффициент корреляции = %f \", r)"
      ],
      "execution_count": 83,
      "outputs": [
        {
          "output_type": "display_data",
          "data": {
            "text/plain": [
              "[1] \"Коэффициент корреляции = 0.038301 \""
            ],
            "text/latex": "'Коэффициент корреляции = 0.038301 '",
            "text/markdown": "'Коэффициент корреляции = 0.038301 '",
            "text/html": [
              "'Коэффициент корреляции = 0.038301 '"
            ]
          },
          "metadata": {}
        }
      ]
    },
    {
      "cell_type": "markdown",
      "metadata": {
        "id": "O5m8Ve_cNqoL"
      },
      "source": [
        "Уравнение линейной регрессии $Y$ на $X$"
      ]
    },
    {
      "cell_type": "code",
      "metadata": {
        "colab": {
          "base_uri": "https://localhost:8080/",
          "height": 34
        },
        "id": "k9jEf5LXNz1F",
        "outputId": "608cd5aa-e49f-4770-940a-0cb16eb9cd54"
      },
      "source": [
        "k_yx <- r * y_std / x_std\n",
        "b_yx <- y_mean - k_yx * x_mean\n",
        "sprintf(\"y_x = %fx + %f\", k_yx, b_yx)"
      ],
      "execution_count": 84,
      "outputs": [
        {
          "output_type": "display_data",
          "data": {
            "text/plain": [
              "[1] \"y_x = 0.038132x + 71.412763\""
            ],
            "text/latex": "'y\\_x = 0.038132x + 71.412763'",
            "text/markdown": "'y_x = 0.038132x + 71.412763'",
            "text/html": [
              "'y_x = 0.038132x + 71.412763'"
            ]
          },
          "metadata": {}
        }
      ]
    },
    {
      "cell_type": "markdown",
      "metadata": {
        "id": "xtHI_frsWhJH"
      },
      "source": [
        "Это означает, что с увеличением параметра $x$ на 1 единицу параметр $y$ увеличивается в среднем на 0.0381"
      ]
    },
    {
      "cell_type": "markdown",
      "metadata": {
        "id": "L4cyhu4wQ_Lq"
      },
      "source": [
        "Уравнение линейной регрессии $X$ на $Y$\n"
      ]
    },
    {
      "cell_type": "code",
      "metadata": {
        "colab": {
          "base_uri": "https://localhost:8080/",
          "height": 454
        },
        "id": "pSbON1CvREGA",
        "outputId": "e6d5012a-73a6-4f5e-e05a-0a234596ebbb"
      },
      "source": [
        "k_xy <- r * x_std / y_std\n",
        "b_xy <- x_mean - k_xy * y_mean\n",
        "sprintf(\"x_y = %fy + %f\", k_xy, b_xy)\n",
        "\n",
        "plot(x_plot_values, y_plot_values, xlab = \"Defense\", ylab= \"Attack\")\n",
        "lines(x_plot_values, k_yx * x_plot_values + b_yx, col=\"red\")\n",
        "lines(k_xy * y_plot_values + b_xy, y_plot_values, col=\"green\")"
      ],
      "execution_count": 87,
      "outputs": [
        {
          "output_type": "display_data",
          "data": {
            "text/plain": [
              "[1] \"x_y = 0.038470y + 74.202735\""
            ],
            "text/latex": "'x\\_y = 0.038470y + 74.202735'",
            "text/markdown": "'x_y = 0.038470y + 74.202735'",
            "text/html": [
              "'x_y = 0.038470y + 74.202735'"
            ]
          },
          "metadata": {}
        },
        {
          "output_type": "display_data",
          "data": {
            "image/png": "[encoded data removed]",
            "text/plain": [
              "plot without title"
            ]
          },
          "metadata": {
            "image/png": {
              "width": 420,
              "height": 420
            }
          }
        }
      ]
    },
    {
      "cell_type": "markdown",
      "metadata": {
        "id": "LYfOPQ_tZFiW"
      },
      "source": [
        "Это означает, что с увеличением параметра $y$ на 1 единицу параметр $x$ увеличивается в среднем на 0.0385"
      ]
    },
    {
      "cell_type": "markdown",
      "metadata": {
        "id": "XXGAwhULbrJm"
      },
      "source": [
        "###3. Составим корреляционную таблицу для нахождения выборочного корреляционного отношения."
      ]
    },
    {
      "cell_type": "code",
      "metadata": {
        "colab": {
          "base_uri": "https://localhost:8080/",
          "height": 286
        },
        "id": "V8ryerE8ZDZI",
        "outputId": "4fb5a980-cb39-4611-9c99-625097607dc7"
      },
      "source": [
        "# 3. Построим корреляционную таблицу\n",
        "##Найдём пары элементов (xi, yj). Возьмём центры соотв. интервалов\n",
        "x_values <- defense_interval_series$intervals\n",
        "y_values <- attack_interval_series$intervals\n",
        "\n",
        "x_centers <- round(defense_interval_centers)\n",
        "y_centers <- round(attack_interval_centers)\n",
        "\n",
        "x_mean <- mean_of_defense_interval_series\n",
        "y_mean <- mean_of_attack_interval_series\n",
        "\n",
        "x_std <- defense_std\n",
        "y_std <- attack_std\n",
        "\n",
        "correlation_table <- matrix(0, nrow = number_of_intervals, ncol = number_of_intervals)\n",
        "for (i in 1:number_of_intervals){\n",
        "  for (j in 1:number_of_intervals){\n",
        "    for (k in 1:sample_cardinality){\n",
        "      if ((defense_stats[k] > x_values[[i]][1] && defense_stats[k] <= x_values[[i]][2]) && (attack_stats[k] > y_values[[j]][1] && attack_stats[k] <= y_values[[j]][2])){\n",
        "        correlation_table[i,j] = correlation_table[i,j] + 1\n",
        "      }\n",
        "    }\n",
        "  }\n",
        "}\n",
        "\n",
        "rownames(correlation_table) <- x_centers\n",
        "colnames(correlation_table) <- y_centers\n",
        "correlation_table"
      ],
      "execution_count": 49,
      "outputs": [
        {
          "output_type": "display_data",
          "data": {
            "text/plain": [
              "    19 43 67 91 115 139 163\n",
              "22  1   2  3  0 1   0   0  \n",
              "54  5  12  8 11 3   3   1  \n",
              "86  2   9 12 15 7   1   0  \n",
              "118 0   2  1  1 2   2   1  \n",
              "150 0   2  0  0 0   0   0  \n",
              "182 0   2  1  0 0   0   0  \n",
              "214 0   0  1  0 0   0   0  "
            ],
            "text/latex": "A matrix: 7 × 7 of type dbl\n\\begin{tabular}{r|lllllll}\n  & 19 & 43 & 67 & 91 & 115 & 139 & 163\\\\\n\\hline\n\t22 & 1 &  2 &  3 &  0 & 1 & 0 & 0\\\\\n\t54 & 5 & 12 &  8 & 11 & 3 & 3 & 1\\\\\n\t86 & 2 &  9 & 12 & 15 & 7 & 1 & 0\\\\\n\t118 & 0 &  2 &  1 &  1 & 2 & 2 & 1\\\\\n\t150 & 0 &  2 &  0 &  0 & 0 & 0 & 0\\\\\n\t182 & 0 &  2 &  1 &  0 & 0 & 0 & 0\\\\\n\t214 & 0 &  0 &  1 &  0 & 0 & 0 & 0\\\\\n\\end{tabular}\n",
            "text/markdown": "\nA matrix: 7 × 7 of type dbl\n\n| <!--/--> | 19 | 43 | 67 | 91 | 115 | 139 | 163 |\n|---|---|---|---|---|---|---|---|\n| 22 | 1 |  2 |  3 |  0 | 1 | 0 | 0 |\n| 54 | 5 | 12 |  8 | 11 | 3 | 3 | 1 |\n| 86 | 2 |  9 | 12 | 15 | 7 | 1 | 0 |\n| 118 | 0 |  2 |  1 |  1 | 2 | 2 | 1 |\n| 150 | 0 |  2 |  0 |  0 | 0 | 0 | 0 |\n| 182 | 0 |  2 |  1 |  0 | 0 | 0 | 0 |\n| 214 | 0 |  0 |  1 |  0 | 0 | 0 | 0 |\n\n",
            "text/html": [
              "<table class=\"dataframe\">\n",
              "<caption>A matrix: 7 × 7 of type dbl</caption>\n",
              "<thead>\n",
              "\t<tr><th></th><th scope=col>19</th><th scope=col>43</th><th scope=col>67</th><th scope=col>91</th><th scope=col>115</th><th scope=col>139</th><th scope=col>163</th></tr>\n",
              "</thead>\n",
              "<tbody>\n",
              "\t<tr><th scope=row>22</th><td>1</td><td> 2</td><td> 3</td><td> 0</td><td>1</td><td>0</td><td>0</td></tr>\n",
              "\t<tr><th scope=row>54</th><td>5</td><td>12</td><td> 8</td><td>11</td><td>3</td><td>3</td><td>1</td></tr>\n",
              "\t<tr><th scope=row>86</th><td>2</td><td> 9</td><td>12</td><td>15</td><td>7</td><td>1</td><td>0</td></tr>\n",
              "\t<tr><th scope=row>118</th><td>0</td><td> 2</td><td> 1</td><td> 1</td><td>2</td><td>2</td><td>1</td></tr>\n",
              "\t<tr><th scope=row>150</th><td>0</td><td> 2</td><td> 0</td><td> 0</td><td>0</td><td>0</td><td>0</td></tr>\n",
              "\t<tr><th scope=row>182</th><td>0</td><td> 2</td><td> 1</td><td> 0</td><td>0</td><td>0</td><td>0</td></tr>\n",
              "\t<tr><th scope=row>214</th><td>0</td><td> 0</td><td> 1</td><td> 0</td><td>0</td><td>0</td><td>0</td></tr>\n",
              "</tbody>\n",
              "</table>\n"
            ]
          },
          "metadata": {}
        }
      ]
    },
    {
      "cell_type": "markdown",
      "metadata": {
        "id": "FQwL3LqdgJME"
      },
      "source": [
        "Найдём групповые средние"
      ]
    },
    {
      "cell_type": "code",
      "metadata": {
        "colab": {
          "base_uri": "https://localhost:8080/",
          "height": 52
        },
        "id": "3Q1Fzj_rWF7s",
        "outputId": "b20f24c2-42ec-43b4-d7f3-1b3ccb1e603b"
      },
      "source": [
        "x_group_means <- 0\n",
        "y_group_means <- 0\n",
        "for (i in 1:number_of_intervals){\n",
        "  x_group_means[i] <- sum(x_centers * correlation_table[i,])/sum(correlation_table[i,])\n",
        "  y_group_means[i] <- sum(y_centers * correlation_table[, i])/sum(correlation_table[, i])\n",
        "} \n",
        "x_group_means\n",
        "y_group_means"
      ],
      "execution_count": 64,
      "outputs": [
        {
          "output_type": "display_data",
          "data": {
            "text/plain": [
              "[1]  76.85714  91.95349  99.21739 132.22222  54.00000  64.66667  86.00000"
            ],
            "text/latex": "\\begin{enumerate*}\n\\item 76.8571428571429\n\\item 91.953488372093\n\\item 99.2173913043478\n\\item 132.222222222222\n\\item 54\n\\item 64.6666666666667\n\\item 86\n\\end{enumerate*}\n",
            "text/markdown": "1. 76.8571428571429\n2. 91.953488372093\n3. 99.2173913043478\n4. 132.222222222222\n5. 54\n6. 64.6666666666667\n7. 86\n\n\n",
            "text/html": [
              "<style>\n",
              ".list-inline {list-style: none; margin:0; padding: 0}\n",
              ".list-inline>li {display: inline-block}\n",
              ".list-inline>li:not(:last-child)::after {content: \"\\00b7\"; padding: 0 .5ex}\n",
              "</style>\n",
              "<ol class=list-inline><li>76.8571428571429</li><li>91.953488372093</li><li>99.2173913043478</li><li>132.222222222222</li><li>54</li><li>64.6666666666667</li><li>86</li></ol>\n"
            ]
          },
          "metadata": {}
        },
        {
          "output_type": "display_data",
          "data": {
            "text/plain": [
              "[1] 46.00000 63.68966 61.46154 58.11111 61.46154 63.00000 67.00000"
            ],
            "text/latex": "\\begin{enumerate*}\n\\item 46\n\\item 63.6896551724138\n\\item 61.4615384615385\n\\item 58.1111111111111\n\\item 61.4615384615385\n\\item 63\n\\item 67\n\\end{enumerate*}\n",
            "text/markdown": "1. 46\n2. 63.6896551724138\n3. 61.4615384615385\n4. 58.1111111111111\n5. 61.4615384615385\n6. 63\n7. 67\n\n\n",
            "text/html": [
              "<style>\n",
              ".list-inline {list-style: none; margin:0; padding: 0}\n",
              ".list-inline>li {display: inline-block}\n",
              ".list-inline>li:not(:last-child)::after {content: \"\\00b7\"; padding: 0 .5ex}\n",
              "</style>\n",
              "<ol class=list-inline><li>46</li><li>63.6896551724138</li><li>61.4615384615385</li><li>58.1111111111111</li><li>61.4615384615385</li><li>63</li><li>67</li></ol>\n"
            ]
          },
          "metadata": {}
        }
      ]
    },
    {
      "cell_type": "markdown",
      "metadata": {
        "id": "50g2-f6NjCwe"
      },
      "source": [
        "Найдем межгрупповые дисперсии"
      ]
    },
    {
      "cell_type": "code",
      "metadata": {
        "colab": {
          "base_uri": "https://localhost:8080/",
          "height": 52
        },
        "id": "FX0Dk4iiWF0-",
        "outputId": "b822ef13-45f2-4a1e-bf80-ef6e26f24501"
      },
      "source": [
        "intergroup_dispersion_x <- 0\n",
        "intergroup_dispersion_y <- 0\n",
        "for (i in 1:number_of_intervals){\n",
        "  intergroup_dispersion_x = intergroup_dispersion_x + (x_group_means[i] - x_mean) * sum(correlation_table[, i])\n",
        "  intergroup_dispersion_y = intergroup_dispersion_y + (x_group_means[i] - y_mean) * sum(correlation_table[i, ])\n",
        "}\n",
        "intergroup_dispersion_x = intergroup_dispersion_x / sample_cardinality\n",
        "intergroup_dispersion_y = intergroup_dispersion_y / sample_cardinality\n",
        "intergroup_dispersion_x\n",
        "intergroup_dispersion_y"
      ],
      "execution_count": 66,
      "outputs": [
        {
          "output_type": "display_data",
          "data": {
            "text/plain": [
              "[1] 19.27172"
            ],
            "text/latex": "19.27171603208",
            "text/markdown": "19.27171603208",
            "text/html": [
              "19.27171603208"
            ]
          },
          "metadata": {}
        },
        {
          "output_type": "display_data",
          "data": {
            "text/plain": [
              "[1] 21.45045"
            ],
            "text/latex": "21.4504504504504",
            "text/markdown": "21.4504504504504",
            "text/html": [
              "21.4504504504504"
            ]
          },
          "metadata": {}
        }
      ]
    },
    {
      "cell_type": "markdown",
      "metadata": {
        "id": "3fnAREFXrUAr"
      },
      "source": [
        "Найдём коэффициент линейной корреляции"
      ]
    },
    {
      "cell_type": "code",
      "metadata": {
        "colab": {
          "base_uri": "https://localhost:8080/",
          "height": 271
        },
        "id": "Zy687OvkrTUx",
        "outputId": "fc8c0a8e-944e-4902-ee94-6ed752e078f6"
      },
      "source": [
        "xym_multiplications <- matrix(0, nrow = number_of_intervals, ncol = number_of_intervals)\n",
        "for (i in 1:number_of_intervals){\n",
        "  for (j in 1:number_of_intervals){\n",
        "    xym_multiplications[i,j] = correlation_table[i, j] * x_centers[i] * y_centers[j]\n",
        "  }\n",
        "}\n",
        "xym_multiplications\n",
        "r_linear <- (intergroup_mean - x_mean * y_mean) / (x_std * y_std)\n",
        "r_linear"
      ],
      "execution_count": 67,
      "outputs": [
        {
          "output_type": "display_data",
          "data": {
            "text/plain": [
              "     [,1] [,2]  [,3]  [,4]   [,5]  [,6]  [,7] \n",
              "[1,]  418  1892  4422      0  2530     0     0\n",
              "[2,] 5130 27864 28944  54054 18630 22518  8802\n",
              "[3,] 3268 33282 69144 117390 69230 11954     0\n",
              "[4,]    0 10148  7906  10738 27140 32804 19234\n",
              "[5,]    0 12900     0      0     0     0     0\n",
              "[6,]    0 15652 12194      0     0     0     0\n",
              "[7,]    0     0 14338      0     0     0     0"
            ],
            "text/latex": "A matrix: 7 × 7 of type dbl\n\\begin{tabular}{lllllll}\n\t  418 &  1892 &  4422 &      0 &  2530 &     0 &     0\\\\\n\t 5130 & 27864 & 28944 &  54054 & 18630 & 22518 &  8802\\\\\n\t 3268 & 33282 & 69144 & 117390 & 69230 & 11954 &     0\\\\\n\t    0 & 10148 &  7906 &  10738 & 27140 & 32804 & 19234\\\\\n\t    0 & 12900 &     0 &      0 &     0 &     0 &     0\\\\\n\t    0 & 15652 & 12194 &      0 &     0 &     0 &     0\\\\\n\t    0 &     0 & 14338 &      0 &     0 &     0 &     0\\\\\n\\end{tabular}\n",
            "text/markdown": "\nA matrix: 7 × 7 of type dbl\n\n|  418 |  1892 |  4422 |      0 |  2530 |     0 |     0 |\n| 5130 | 27864 | 28944 |  54054 | 18630 | 22518 |  8802 |\n| 3268 | 33282 | 69144 | 117390 | 69230 | 11954 |     0 |\n|    0 | 10148 |  7906 |  10738 | 27140 | 32804 | 19234 |\n|    0 | 12900 |     0 |      0 |     0 |     0 |     0 |\n|    0 | 15652 | 12194 |      0 |     0 |     0 |     0 |\n|    0 |     0 | 14338 |      0 |     0 |     0 |     0 |\n\n",
            "text/html": [
              "<table class=\"dataframe\">\n",
              "<caption>A matrix: 7 × 7 of type dbl</caption>\n",
              "<tbody>\n",
              "\t<tr><td> 418</td><td> 1892</td><td> 4422</td><td>     0</td><td> 2530</td><td>    0</td><td>    0</td></tr>\n",
              "\t<tr><td>5130</td><td>27864</td><td>28944</td><td> 54054</td><td>18630</td><td>22518</td><td> 8802</td></tr>\n",
              "\t<tr><td>3268</td><td>33282</td><td>69144</td><td>117390</td><td>69230</td><td>11954</td><td>    0</td></tr>\n",
              "\t<tr><td>   0</td><td>10148</td><td> 7906</td><td> 10738</td><td>27140</td><td>32804</td><td>19234</td></tr>\n",
              "\t<tr><td>   0</td><td>12900</td><td>    0</td><td>     0</td><td>    0</td><td>    0</td><td>    0</td></tr>\n",
              "\t<tr><td>   0</td><td>15652</td><td>12194</td><td>     0</td><td>    0</td><td>    0</td><td>    0</td></tr>\n",
              "\t<tr><td>   0</td><td>    0</td><td>14338</td><td>     0</td><td>    0</td><td>    0</td><td>    0</td></tr>\n",
              "</tbody>\n",
              "</table>\n"
            ]
          },
          "metadata": {}
        },
        {
          "output_type": "display_data",
          "data": {
            "text/plain": [
              "[1] 0.05231069"
            ],
            "text/latex": "0.0523106911883929",
            "text/markdown": "0.0523106911883929",
            "text/html": [
              "0.0523106911883929"
            ]
          },
          "metadata": {}
        }
      ]
    },
    {
      "cell_type": "markdown",
      "metadata": {
        "id": "frJOiqBfnCwV"
      },
      "source": [
        "Рассчитаем $η_{yx}$ и $η_{xy}$. Убедимся, что неравенства $𝜂_{𝑥𝑦} \\geqslant |𝑟_{𝑥𝑦}|$ и $𝜂_{𝑦𝑥} \\geqslant |𝑟_{𝑥𝑦}|$ выполняются.\n"
      ]
    },
    {
      "cell_type": "code",
      "metadata": {
        "colab": {
          "base_uri": "https://localhost:8080/",
          "height": 86
        },
        "id": "hdNsehO7WFnX",
        "outputId": "75590b05-159e-4627-9606-61f264b0c711"
      },
      "source": [
        "eta_yx = sqrt(intergroup_dispersion_y) / y_std\n",
        "eta_xy = sqrt(intergroup_dispersion_x) / x_std\n",
        "eta_yx\n",
        "eta_xy\n",
        "print(eta_yx >= r_linear)\n",
        "print(eta_xy >= r_linear)"
      ],
      "execution_count": 69,
      "outputs": [
        {
          "output_type": "display_data",
          "data": {
            "text/plain": [
              "[1] 0.1384709"
            ],
            "text/latex": "0.138470925871113",
            "text/markdown": "0.138470925871113",
            "text/html": [
              "0.138470925871113"
            ]
          },
          "metadata": {}
        },
        {
          "output_type": "display_data",
          "data": {
            "text/plain": [
              "[1] 0.1306722"
            ],
            "text/latex": "0.130672232015426",
            "text/markdown": "0.130672232015426",
            "text/html": [
              "0.130672232015426"
            ]
          },
          "metadata": {}
        },
        {
          "output_type": "stream",
          "name": "stdout",
          "text": [
            "[1] TRUE\n",
            "[1] TRUE\n"
          ]
        }
      ]
    },
    {
      "cell_type": "markdown",
      "metadata": {
        "id": "T1GfYRxn0M4e"
      },
      "source": [
        "###4. Построим корреляционную кривую параболического вида $𝑦 = 𝑎𝑥^2 + 𝑏𝑥 + c$."
      ]
    },
    {
      "cell_type": "markdown",
      "metadata": {
        "id": "kAmvGkLxeQL0"
      },
      "source": [
        "Представим следующую систему уравнений в матричном виде:\n",
        "\n",
        "$a \\sum x_i^4 + b \\sum x_i^3 + c \\sum x_i^2 = \\sum y_i x_i^2$\n",
        "<br>\n",
        "$a \\sum x_i^3 + b \\sum x_i^2 + c \\sum x_i = \\sum y_i x_i$\n",
        "<br>\n",
        "$a \\sum x_i^2 + b \\sum x_i + c n = \\sum y_i$"
      ]
    },
    {
      "cell_type": "code",
      "metadata": {
        "colab": {
          "base_uri": "https://localhost:8080/",
          "height": 146
        },
        "id": "gmRhXuDm0q0l",
        "outputId": "04393c44-2916-4aab-f023-e66525e22164"
      },
      "source": [
        "mat_a1 <- matrix(0, nrow = 3, ncol = 3)\n",
        "mat_a1[1, 1] = sum(X^4)\n",
        "mat_a1[1, 2] = sum(X^3)\n",
        "mat_a1[1, 3] = sum(X^2)\n",
        "mat_a1[2, 1] = mat_a1[1, 2]\n",
        "mat_a1[2, 2] = mat_a1[1, 3]\n",
        "mat_a1[2, 3] = sum(X)\n",
        "mat_a1[3, 1] = mat_a1[1, 3]\n",
        "mat_a1[3, 2] = mat_a1[2, 3]\n",
        "mat_a1[3, 3] = sample_cardinality\n",
        "\n",
        "mat_b1 <- matrix(c( sum(Y * X^2), sum(Y * X), sum(Y)), nrow=3)\n",
        "\n",
        "parabolic_factors <- solve(mat_a1, mat_b1) \n",
        "parabolic_factors"
      ],
      "execution_count": 98,
      "outputs": [
        {
          "output_type": "display_data",
          "data": {
            "text/plain": [
              "     [,1]        \n",
              "[1,] -0.002968705\n",
              "[2,]  0.634795570\n",
              "[3,] 46.742694630"
            ],
            "text/latex": "A matrix: 3 × 1 of type dbl\n\\begin{tabular}{l}\n\t -0.002968705\\\\\n\t  0.634795570\\\\\n\t 46.742694630\\\\\n\\end{tabular}\n",
            "text/markdown": "\nA matrix: 3 × 1 of type dbl\n\n| -0.002968705 |\n|  0.634795570 |\n| 46.742694630 |\n\n",
            "text/html": [
              "<table class=\"dataframe\">\n",
              "<caption>A matrix: 3 × 1 of type dbl</caption>\n",
              "<tbody>\n",
              "\t<tr><td>-0.002968705</td></tr>\n",
              "\t<tr><td> 0.634795570</td></tr>\n",
              "\t<tr><td>46.742694630</td></tr>\n",
              "</tbody>\n",
              "</table>\n"
            ]
          },
          "metadata": {}
        }
      ]
    },
    {
      "cell_type": "markdown",
      "metadata": {
        "id": "BYzAeoM26qoP"
      },
      "source": [
        "Построим график получившейся функции"
      ]
    },
    {
      "cell_type": "code",
      "metadata": {
        "colab": {
          "base_uri": "https://localhost:8080/",
          "height": 437
        },
        "id": "cWVPENMP6vjz",
        "outputId": "6ec2bf19-621f-4e76-b19b-3277c17c00a4"
      },
      "source": [
        "plot(x_plot_values, y_plot_values, xlab = \"Defense\", ylab= \"Attack\")\n",
        "lines(sort(x_plot_values), parabolic_factors[1,1] * sort(x_plot_values)^2 + parabolic_factors[2,1] * sort(x_plot_values) + parabolic_factors[3,1], col=\"red\")"
      ],
      "execution_count": 103,
      "outputs": [
        {
          "output_type": "display_data",
          "data": {
            "image/png": "[encoded data removed]",
            "text/plain": [
              "plot without title"
            ]
          },
          "metadata": {
            "image/png": {
              "width": 420,
              "height": 420
            }
          }
        }
      ]
    },
    {
      "cell_type": "code",
      "metadata": {
        "id": "Bf_QFlwOVYfP"
      },
      "source": [
        "# x_plot_values <- defense_stats\n",
        "# y_plot_values <- attack_stats\n",
        "\n",
        "# for (i in 1:number_of_intervals){\n",
        "#   for (j in 1:number_of_intervals){\n",
        "#     if (correlation_table[i,j] != 0){\n",
        "#       x_plot_values <- c(x_plot_values, x_centers[i])\n",
        "#       y_plot_values <- c(y_plot_values, y_centers[j])\n",
        "#     }\n",
        "#   }\n",
        "# }\n",
        "\n",
        "# sample_intergroup_mean <- 0\n",
        "# for (i in 1:number_of_intervals){\n",
        "#   for (j in 1:number_of_intervals){\n",
        "#     sample_intergroup_mean = sample_intergroup_mean + xym_multiplications[i,j]\n",
        "#   }\n",
        "# }\n",
        "# sample_intergroup_mean = sample_intergroup_mean / sample_cardinality\n",
        "# sprintf(\"Межгрупповое среднее = %f \", sample_intergroup_mean)\n",
        "# p_xy <- r * y_std / x_std\n",
        "# p_yx <- r * x_std / y_std\n",
        "# sprintf(\"p_xy = %f \", p_xy)\n",
        "# sprintf(\"p_yx = %f \", p_yx)"
      ],
      "execution_count": null,
      "outputs": []
    },
    {
      "cell_type": "markdown",
      "metadata": {
        "id": "b7M9QxVKceJI"
      },
      "source": [
        "## Выводы\n",
        "Развёрнутый вывод по практической работе."
      ]
    }
  ]
}